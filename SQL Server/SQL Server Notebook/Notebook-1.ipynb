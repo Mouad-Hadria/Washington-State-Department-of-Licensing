{
    "metadata": {
        "kernelspec": {
            "name": "SQL",
            "display_name": "SQL",
            "language": "sql"
        },
        "language_info": {
            "name": "sql",
            "version": ""
        }
    },
    "nbformat_minor": 2,
    "nbformat": 4,
    "cells": [
        {
            "cell_type": "markdown",
            "source": [
                "# **Analysis Flow: Electric Vehicle Title and Registration Activities Project**"
            ],
            "metadata": {
                "azdata_cell_guid": "7db0a2c5-4c04-45a6-95f1-7361bfe8806a"
            },
            "attachments": {}
        },
        {
            "cell_type": "markdown",
            "source": [
                "# **Phase 1: Data preparation and exploration**"
            ],
            "metadata": {
                "azdata_cell_guid": "8396a86c-4f50-415d-b8ff-ac872673badf"
            },
            "attachments": {}
        },
        {
            "cell_type": "markdown",
            "source": [
                "## **Data import**"
            ],
            "metadata": {
                "azdata_cell_guid": "fb79a432-9bb7-4b52-be90-884143bc1835"
            },
            "attachments": {}
        },
        {
            "cell_type": "markdown",
            "source": [
                ""
            ],
            "metadata": {
                "azdata_cell_guid": "bccc0efd-ae54-482b-afce-56c6c014faad"
            }
        },
        {
            "cell_type": "code",
            "source": [
                "SELECT \r\n",
                "Clean_Alternative_Fuel_Vehicle_Type AS 'Electric_Vehicle_Type',DOL_Vehicle_ID,Model_Year,Make,Model,Vehicle_Primary_Use,Electric_Range,Odometer_Reading,\r\n",
                "Odometer_Code,New_or_Used_Vehicle AS 'Vehicle_Condition',Sale_Price,Sale_Date,Base_MSRP,Transaction_Type,DOL_Transaction_Date,Transaction_Year,County,City,\r\n",
                "State_of_Residence AS 'State',Postal_Code\r\n",
                "INTO Electric_Vehicle_Registrations FROM PortfolioProjects.dbo.Electric_Vehicle_Title_and_Registration_Activity\r\n",
                "\r\n",
                "SELECT\r\n",
                "County,City,State,Postal_Code,Model_Year,Make,Model,Electric_Vehicle_Type,Clean_Alternative_Fuel_Vehicle_CAFV_Eligibility AS 'Alternative Fuel Eligibility',\r\n",
                "Electric_Range,Base_MSRP,DOL_Vehicle_ID\r\n",
                "INTO Electric_Vehicle_Population FROM PortfolioProjects.dbo.Electric_Vehicle_Population_Data"
            ],
            "metadata": {
                "azdata_cell_guid": "d2624c4f-bfbf-4e79-b61f-f4be41aa7429",
                "language": "sql"
            },
            "outputs": [
                {
                    "output_type": "display_data",
                    "data": {
                        "text/html": "(808591 rows affected)"
                    },
                    "metadata": {}
                },
                {
                    "output_type": "display_data",
                    "data": {
                        "text/html": "(143596 rows affected)"
                    },
                    "metadata": {}
                },
                {
                    "output_type": "display_data",
                    "data": {
                        "text/html": "Total execution time: 00:00:02.543"
                    },
                    "metadata": {}
                }
            ],
            "execution_count": 1
        },
        {
            "cell_type": "markdown",
            "source": [
                ""
            ],
            "metadata": {
                "azdata_cell_guid": "39aeb9a8-c728-43a7-bb5f-a06b4f6ab915"
            }
        },
        {
            "cell_type": "markdown",
            "source": [
                "## **Data cleaning and preprocessing**"
            ],
            "metadata": {
                "azdata_cell_guid": "2a3e5929-64b9-4c3f-8a22-17c9b999641e"
            },
            "attachments": {}
        },
        {
            "cell_type": "markdown",
            "source": [
                "### **Detetcing missing values**"
            ],
            "metadata": {
                "azdata_cell_guid": "7c768816-5501-4ffc-9c77-ff69ede194a1"
            },
            "attachments": {}
        },
        {
            "cell_type": "markdown",
            "source": [
                ""
            ],
            "metadata": {
                "azdata_cell_guid": "5886f715-7556-4a1a-9d03-bcbf4194fd90"
            }
        },
        {
            "cell_type": "code",
            "source": [
                "SET NOCOUNT ON\r\n",
                "\r\n",
                "DECLARE @TableName NVARCHAR(128) = 'Electric_Vehicle_Registrations';\r\n",
                "DECLARE @ColumnName NVARCHAR(128);\r\n",
                "DECLARE @SQL NVARCHAR(MAX);\r\n",
                "\r\n",
                "DECLARE ColumnCursor CURSOR FOR\r\n",
                "SELECT COLUMN_NAME\r\n",
                "FROM INFORMATION_SCHEMA.COLUMNS\r\n",
                "WHERE TABLE_NAME = @TableName;\r\n",
                "\r\n",
                "OPEN ColumnCursor;\r\n",
                "FETCH NEXT FROM ColumnCursor INTO @ColumnName;\r\n",
                "\r\n",
                "WHILE @@FETCH_STATUS = 0\r\n",
                "BEGIN\r\n",
                "\r\n",
                "\tSET @SQL =' SELECT COUNT(*) AS ''The count of null values in '+QUOTENAME(@ColumnName)+'''\r\n",
                "\tFROM PortfolioProjects.dbo.Electric_Vehicle_Registrations WHERE ' + QUOTENAME(@ColumnName)  + 'IS NULL'\r\n",
                "\tEXEC sp_executesql @SQL\r\n",
                "    \r\n",
                "    FETCH NEXT FROM ColumnCursor INTO @ColumnName;\r\n",
                "END;\r\n",
                "\r\n",
                "CLOSE ColumnCursor;\r\n",
                "DEALLOCATE ColumnCursor;"
            ],
            "metadata": {
                "azdata_cell_guid": "f56e2376-6cce-4eec-9642-e532eeefea34",
                "language": "sql"
            },
            "outputs": [
                {
                    "output_type": "display_data",
                    "data": {
                        "text/html": "Commands completed successfully."
                    },
                    "metadata": {}
                },
                {
                    "output_type": "display_data",
                    "data": {
                        "text/html": "Total execution time: 00:00:03.555"
                    },
                    "metadata": {}
                },
                {
                    "output_type": "execute_result",
                    "metadata": {},
                    "execution_count": 2,
                    "data": {
                        "application/vnd.dataresource+json": {
                            "schema": {
                                "fields": [
                                    {
                                        "name": "The count of null values in [Electric_Vehicle_Type]"
                                    }
                                ]
                            },
                            "data": [
                                {
                                    "The count of null values in [Electric_Vehicle_Type]": "0"
                                }
                            ]
                        },
                        "text/html": [
                            "<table>",
                            "<tr><th>The count of null values in [Electric_Vehicle_Type]</th></tr>",
                            "<tr><td>0</td></tr>",
                            "</table>"
                        ]
                    }
                },
                {
                    "output_type": "execute_result",
                    "metadata": {},
                    "execution_count": 2,
                    "data": {
                        "application/vnd.dataresource+json": {
                            "schema": {
                                "fields": [
                                    {
                                        "name": "The count of null values in [DOL_Vehicle_ID]"
                                    }
                                ]
                            },
                            "data": [
                                {
                                    "The count of null values in [DOL_Vehicle_ID]": "0"
                                }
                            ]
                        },
                        "text/html": [
                            "<table>",
                            "<tr><th>The count of null values in [DOL_Vehicle_ID]</th></tr>",
                            "<tr><td>0</td></tr>",
                            "</table>"
                        ]
                    }
                },
                {
                    "output_type": "execute_result",
                    "metadata": {},
                    "execution_count": 2,
                    "data": {
                        "application/vnd.dataresource+json": {
                            "schema": {
                                "fields": [
                                    {
                                        "name": "The count of null values in [Model_Year]"
                                    }
                                ]
                            },
                            "data": [
                                {
                                    "The count of null values in [Model_Year]": "0"
                                }
                            ]
                        },
                        "text/html": [
                            "<table>",
                            "<tr><th>The count of null values in [Model_Year]</th></tr>",
                            "<tr><td>0</td></tr>",
                            "</table>"
                        ]
                    }
                },
                {
                    "output_type": "execute_result",
                    "metadata": {},
                    "execution_count": 2,
                    "data": {
                        "application/vnd.dataresource+json": {
                            "schema": {
                                "fields": [
                                    {
                                        "name": "The count of null values in [Make]"
                                    }
                                ]
                            },
                            "data": [
                                {
                                    "The count of null values in [Make]": "0"
                                }
                            ]
                        },
                        "text/html": [
                            "<table>",
                            "<tr><th>The count of null values in [Make]</th></tr>",
                            "<tr><td>0</td></tr>",
                            "</table>"
                        ]
                    }
                },
                {
                    "output_type": "execute_result",
                    "metadata": {},
                    "execution_count": 2,
                    "data": {
                        "application/vnd.dataresource+json": {
                            "schema": {
                                "fields": [
                                    {
                                        "name": "The count of null values in [Model]"
                                    }
                                ]
                            },
                            "data": [
                                {
                                    "The count of null values in [Model]": "0"
                                }
                            ]
                        },
                        "text/html": [
                            "<table>",
                            "<tr><th>The count of null values in [Model]</th></tr>",
                            "<tr><td>0</td></tr>",
                            "</table>"
                        ]
                    }
                },
                {
                    "output_type": "execute_result",
                    "metadata": {},
                    "execution_count": 2,
                    "data": {
                        "application/vnd.dataresource+json": {
                            "schema": {
                                "fields": [
                                    {
                                        "name": "The count of null values in [Vehicle_Primary_Use]"
                                    }
                                ]
                            },
                            "data": [
                                {
                                    "The count of null values in [Vehicle_Primary_Use]": "0"
                                }
                            ]
                        },
                        "text/html": [
                            "<table>",
                            "<tr><th>The count of null values in [Vehicle_Primary_Use]</th></tr>",
                            "<tr><td>0</td></tr>",
                            "</table>"
                        ]
                    }
                },
                {
                    "output_type": "execute_result",
                    "metadata": {},
                    "execution_count": 2,
                    "data": {
                        "application/vnd.dataresource+json": {
                            "schema": {
                                "fields": [
                                    {
                                        "name": "The count of null values in [Electric_Range]"
                                    }
                                ]
                            },
                            "data": [
                                {
                                    "The count of null values in [Electric_Range]": "0"
                                }
                            ]
                        },
                        "text/html": [
                            "<table>",
                            "<tr><th>The count of null values in [Electric_Range]</th></tr>",
                            "<tr><td>0</td></tr>",
                            "</table>"
                        ]
                    }
                },
                {
                    "output_type": "execute_result",
                    "metadata": {},
                    "execution_count": 2,
                    "data": {
                        "application/vnd.dataresource+json": {
                            "schema": {
                                "fields": [
                                    {
                                        "name": "The count of null values in [Odometer_Reading]"
                                    }
                                ]
                            },
                            "data": [
                                {
                                    "The count of null values in [Odometer_Reading]": "0"
                                }
                            ]
                        },
                        "text/html": [
                            "<table>",
                            "<tr><th>The count of null values in [Odometer_Reading]</th></tr>",
                            "<tr><td>0</td></tr>",
                            "</table>"
                        ]
                    }
                },
                {
                    "output_type": "execute_result",
                    "metadata": {},
                    "execution_count": 2,
                    "data": {
                        "application/vnd.dataresource+json": {
                            "schema": {
                                "fields": [
                                    {
                                        "name": "The count of null values in [Odometer_Code]"
                                    }
                                ]
                            },
                            "data": [
                                {
                                    "The count of null values in [Odometer_Code]": "0"
                                }
                            ]
                        },
                        "text/html": [
                            "<table>",
                            "<tr><th>The count of null values in [Odometer_Code]</th></tr>",
                            "<tr><td>0</td></tr>",
                            "</table>"
                        ]
                    }
                },
                {
                    "output_type": "execute_result",
                    "metadata": {},
                    "execution_count": 2,
                    "data": {
                        "application/vnd.dataresource+json": {
                            "schema": {
                                "fields": [
                                    {
                                        "name": "The count of null values in [Vehicle_Condition]"
                                    }
                                ]
                            },
                            "data": [
                                {
                                    "The count of null values in [Vehicle_Condition]": "0"
                                }
                            ]
                        },
                        "text/html": [
                            "<table>",
                            "<tr><th>The count of null values in [Vehicle_Condition]</th></tr>",
                            "<tr><td>0</td></tr>",
                            "</table>"
                        ]
                    }
                },
                {
                    "output_type": "execute_result",
                    "metadata": {},
                    "execution_count": 2,
                    "data": {
                        "application/vnd.dataresource+json": {
                            "schema": {
                                "fields": [
                                    {
                                        "name": "The count of null values in [Sale_Price]"
                                    }
                                ]
                            },
                            "data": [
                                {
                                    "The count of null values in [Sale_Price]": "0"
                                }
                            ]
                        },
                        "text/html": [
                            "<table>",
                            "<tr><th>The count of null values in [Sale_Price]</th></tr>",
                            "<tr><td>0</td></tr>",
                            "</table>"
                        ]
                    }
                },
                {
                    "output_type": "execute_result",
                    "metadata": {},
                    "execution_count": 2,
                    "data": {
                        "application/vnd.dataresource+json": {
                            "schema": {
                                "fields": [
                                    {
                                        "name": "The count of null values in [Sale_Date]"
                                    }
                                ]
                            },
                            "data": [
                                {
                                    "The count of null values in [Sale_Date]": "566738"
                                }
                            ]
                        },
                        "text/html": [
                            "<table>",
                            "<tr><th>The count of null values in [Sale_Date]</th></tr>",
                            "<tr><td>566738</td></tr>",
                            "</table>"
                        ]
                    }
                },
                {
                    "output_type": "execute_result",
                    "metadata": {},
                    "execution_count": 2,
                    "data": {
                        "application/vnd.dataresource+json": {
                            "schema": {
                                "fields": [
                                    {
                                        "name": "The count of null values in [Base_MSRP]"
                                    }
                                ]
                            },
                            "data": [
                                {
                                    "The count of null values in [Base_MSRP]": "0"
                                }
                            ]
                        },
                        "text/html": [
                            "<table>",
                            "<tr><th>The count of null values in [Base_MSRP]</th></tr>",
                            "<tr><td>0</td></tr>",
                            "</table>"
                        ]
                    }
                },
                {
                    "output_type": "execute_result",
                    "metadata": {},
                    "execution_count": 2,
                    "data": {
                        "application/vnd.dataresource+json": {
                            "schema": {
                                "fields": [
                                    {
                                        "name": "The count of null values in [Transaction_Type]"
                                    }
                                ]
                            },
                            "data": [
                                {
                                    "The count of null values in [Transaction_Type]": "0"
                                }
                            ]
                        },
                        "text/html": [
                            "<table>",
                            "<tr><th>The count of null values in [Transaction_Type]</th></tr>",
                            "<tr><td>0</td></tr>",
                            "</table>"
                        ]
                    }
                },
                {
                    "output_type": "execute_result",
                    "metadata": {},
                    "execution_count": 2,
                    "data": {
                        "application/vnd.dataresource+json": {
                            "schema": {
                                "fields": [
                                    {
                                        "name": "The count of null values in [DOL_Transaction_Date]"
                                    }
                                ]
                            },
                            "data": [
                                {
                                    "The count of null values in [DOL_Transaction_Date]": "0"
                                }
                            ]
                        },
                        "text/html": [
                            "<table>",
                            "<tr><th>The count of null values in [DOL_Transaction_Date]</th></tr>",
                            "<tr><td>0</td></tr>",
                            "</table>"
                        ]
                    }
                },
                {
                    "output_type": "execute_result",
                    "metadata": {},
                    "execution_count": 2,
                    "data": {
                        "application/vnd.dataresource+json": {
                            "schema": {
                                "fields": [
                                    {
                                        "name": "The count of null values in [Transaction_Year]"
                                    }
                                ]
                            },
                            "data": [
                                {
                                    "The count of null values in [Transaction_Year]": "0"
                                }
                            ]
                        },
                        "text/html": [
                            "<table>",
                            "<tr><th>The count of null values in [Transaction_Year]</th></tr>",
                            "<tr><td>0</td></tr>",
                            "</table>"
                        ]
                    }
                },
                {
                    "output_type": "execute_result",
                    "metadata": {},
                    "execution_count": 2,
                    "data": {
                        "application/vnd.dataresource+json": {
                            "schema": {
                                "fields": [
                                    {
                                        "name": "The count of null values in [County]"
                                    }
                                ]
                            },
                            "data": [
                                {
                                    "The count of null values in [County]": "36"
                                }
                            ]
                        },
                        "text/html": [
                            "<table>",
                            "<tr><th>The count of null values in [County]</th></tr>",
                            "<tr><td>36</td></tr>",
                            "</table>"
                        ]
                    }
                },
                {
                    "output_type": "execute_result",
                    "metadata": {},
                    "execution_count": 2,
                    "data": {
                        "application/vnd.dataresource+json": {
                            "schema": {
                                "fields": [
                                    {
                                        "name": "The count of null values in [City]"
                                    }
                                ]
                            },
                            "data": [
                                {
                                    "The count of null values in [City]": "71"
                                }
                            ]
                        },
                        "text/html": [
                            "<table>",
                            "<tr><th>The count of null values in [City]</th></tr>",
                            "<tr><td>71</td></tr>",
                            "</table>"
                        ]
                    }
                },
                {
                    "output_type": "execute_result",
                    "metadata": {},
                    "execution_count": 2,
                    "data": {
                        "application/vnd.dataresource+json": {
                            "schema": {
                                "fields": [
                                    {
                                        "name": "The count of null values in [State]"
                                    }
                                ]
                            },
                            "data": [
                                {
                                    "The count of null values in [State]": "1"
                                }
                            ]
                        },
                        "text/html": [
                            "<table>",
                            "<tr><th>The count of null values in [State]</th></tr>",
                            "<tr><td>1</td></tr>",
                            "</table>"
                        ]
                    }
                },
                {
                    "output_type": "execute_result",
                    "metadata": {},
                    "execution_count": 2,
                    "data": {
                        "application/vnd.dataresource+json": {
                            "schema": {
                                "fields": [
                                    {
                                        "name": "The count of null values in [Postal_Code]"
                                    }
                                ]
                            },
                            "data": [
                                {
                                    "The count of null values in [Postal_Code]": "48"
                                }
                            ]
                        },
                        "text/html": [
                            "<table>",
                            "<tr><th>The count of null values in [Postal_Code]</th></tr>",
                            "<tr><td>48</td></tr>",
                            "</table>"
                        ]
                    }
                }
            ],
            "execution_count": 2
        },
        {
            "cell_type": "markdown",
            "source": [
                ""
            ],
            "metadata": {
                "azdata_cell_guid": "4820ffe9-f61d-4d19-a9c0-8cadc3d3fc8c"
            }
        },
        {
            "cell_type": "markdown",
            "source": [
                "### **Checking the column \\['Alternative Fuel Eligibility'\\]**"
            ],
            "metadata": {
                "azdata_cell_guid": "2e90f3b2-7a34-4221-8fd7-eba9925fd521"
            },
            "attachments": {}
        },
        {
            "cell_type": "markdown",
            "source": [
                ""
            ],
            "metadata": {
                "azdata_cell_guid": "c48a44a1-e34b-44d6-b9f0-9a0e0ccbaba9"
            }
        },
        {
            "cell_type": "code",
            "source": [
                "SELECT TOP 10 Electric_Range,[Alternative Fuel Eligibility]\r\n",
                "FROM PortfolioProjects.dbo.Electric_Vehicle_Population\r\n",
                "ORDER BY 1 asc"
            ],
            "metadata": {
                "azdata_cell_guid": "c50dbb86-3b3d-4eb8-a59f-99cf92e4e2d3",
                "language": "sql",
                "tags": []
            },
            "outputs": [
                {
                    "output_type": "display_data",
                    "data": {
                        "text/html": "Commands completed successfully."
                    },
                    "metadata": {}
                },
                {
                    "output_type": "display_data",
                    "data": {
                        "text/html": "Total execution time: 00:00:00.077"
                    },
                    "metadata": {}
                },
                {
                    "output_type": "execute_result",
                    "metadata": {},
                    "execution_count": 3,
                    "data": {
                        "application/vnd.dataresource+json": {
                            "schema": {
                                "fields": [
                                    {
                                        "name": "Electric_Range"
                                    },
                                    {
                                        "name": "Alternative Fuel Eligibility"
                                    }
                                ]
                            },
                            "data": [
                                {
                                    "Electric_Range": "0",
                                    "Alternative Fuel Eligibility": "Eligibility unknown as battery range has not been researched"
                                },
                                {
                                    "Electric_Range": "0",
                                    "Alternative Fuel Eligibility": "Eligibility unknown as battery range has not been researched"
                                },
                                {
                                    "Electric_Range": "0",
                                    "Alternative Fuel Eligibility": "Eligibility unknown as battery range has not been researched"
                                },
                                {
                                    "Electric_Range": "0",
                                    "Alternative Fuel Eligibility": "Eligibility unknown as battery range has not been researched"
                                },
                                {
                                    "Electric_Range": "0",
                                    "Alternative Fuel Eligibility": "Eligibility unknown as battery range has not been researched"
                                },
                                {
                                    "Electric_Range": "0",
                                    "Alternative Fuel Eligibility": "Eligibility unknown as battery range has not been researched"
                                },
                                {
                                    "Electric_Range": "0",
                                    "Alternative Fuel Eligibility": "Eligibility unknown as battery range has not been researched"
                                },
                                {
                                    "Electric_Range": "0",
                                    "Alternative Fuel Eligibility": "Eligibility unknown as battery range has not been researched"
                                },
                                {
                                    "Electric_Range": "0",
                                    "Alternative Fuel Eligibility": "Eligibility unknown as battery range has not been researched"
                                },
                                {
                                    "Electric_Range": "0",
                                    "Alternative Fuel Eligibility": "Eligibility unknown as battery range has not been researched"
                                }
                            ]
                        },
                        "text/html": [
                            "<table>",
                            "<tr><th>Electric_Range</th><th>Alternative Fuel Eligibility</th></tr>",
                            "<tr><td>0</td><td>Eligibility unknown as battery range has not been researched</td></tr>",
                            "<tr><td>0</td><td>Eligibility unknown as battery range has not been researched</td></tr>",
                            "<tr><td>0</td><td>Eligibility unknown as battery range has not been researched</td></tr>",
                            "<tr><td>0</td><td>Eligibility unknown as battery range has not been researched</td></tr>",
                            "<tr><td>0</td><td>Eligibility unknown as battery range has not been researched</td></tr>",
                            "<tr><td>0</td><td>Eligibility unknown as battery range has not been researched</td></tr>",
                            "<tr><td>0</td><td>Eligibility unknown as battery range has not been researched</td></tr>",
                            "<tr><td>0</td><td>Eligibility unknown as battery range has not been researched</td></tr>",
                            "<tr><td>0</td><td>Eligibility unknown as battery range has not been researched</td></tr>",
                            "<tr><td>0</td><td>Eligibility unknown as battery range has not been researched</td></tr>",
                            "</table>"
                        ]
                    }
                }
            ],
            "execution_count": 3
        },
        {
            "cell_type": "markdown",
            "source": [
                ""
            ],
            "metadata": {
                "language": "sql",
                "azdata_cell_guid": "25a4139c-1f05-4422-99b4-aa6917369b58"
            }
        },
        {
            "cell_type": "code",
            "source": [
                "UPDATE PortfolioProjects.dbo.Electric_Vehicle_Population\r\n",
                "SET [Alternative Fuel Eligibility] = 'Unknown'\r\n",
                "WHERE [Alternative Fuel Eligibility] = 'Eligibility unknown as battery range has not been researched'"
            ],
            "metadata": {
                "language": "sql",
                "azdata_cell_guid": "6d32c2f7-905d-40be-a7ad-2ff616f86237"
            },
            "outputs": [
                {
                    "output_type": "display_data",
                    "data": {
                        "text/html": "Commands completed successfully."
                    },
                    "metadata": {}
                },
                {
                    "output_type": "display_data",
                    "data": {
                        "text/html": "Total execution time: 00:00:00.635"
                    },
                    "metadata": {}
                }
            ],
            "execution_count": 4
        },
        {
            "cell_type": "markdown",
            "source": [
                ""
            ],
            "metadata": {
                "azdata_cell_guid": "ad773748-c2e7-4c54-aae7-8bbe7c5e9810"
            }
        },
        {
            "cell_type": "code",
            "source": [
                "SELECT DISTINCT TOP 10 TAB2.DOL_Vehicle_ID,TAB2.Electric_Range,TAB1.[Alternative Fuel Eligibility]\r\n",
                "FROM PortfolioProjects.dbo.Electric_Vehicle_Population AS TAB1\r\n",
                "JOIN PortfolioProjects.dbo.Electric_Vehicle_Registrations AS TAB2\r\n",
                "ON TAB1.DOL_Vehicle_ID = TAB2.DOL_Vehicle_ID"
            ],
            "metadata": {
                "azdata_cell_guid": "79b4ecd1-c078-42ec-a3c2-fd60d22c67fa",
                "language": "sql"
            },
            "outputs": [
                {
                    "output_type": "display_data",
                    "data": {
                        "text/html": "Commands completed successfully."
                    },
                    "metadata": {}
                },
                {
                    "output_type": "display_data",
                    "data": {
                        "text/html": "Total execution time: 00:00:00.304"
                    },
                    "metadata": {}
                },
                {
                    "output_type": "execute_result",
                    "metadata": {},
                    "execution_count": 5,
                    "data": {
                        "application/vnd.dataresource+json": {
                            "schema": {
                                "fields": [
                                    {
                                        "name": "DOL_Vehicle_ID"
                                    },
                                    {
                                        "name": "Electric_Range"
                                    },
                                    {
                                        "name": "Alternative Fuel Eligibility"
                                    }
                                ]
                            },
                            "data": [
                                {
                                    "DOL_Vehicle_ID": "161704854",
                                    "Electric_Range": "0",
                                    "Alternative Fuel Eligibility": "Unknown"
                                },
                                {
                                    "DOL_Vehicle_ID": "233909490",
                                    "Electric_Range": "13",
                                    "Alternative Fuel Eligibility": "Not eligible due to low battery range"
                                },
                                {
                                    "DOL_Vehicle_ID": "276006153",
                                    "Electric_Range": "107",
                                    "Alternative Fuel Eligibility": "Clean Alternative Fuel Vehicle Eligible"
                                },
                                {
                                    "DOL_Vehicle_ID": "220773423",
                                    "Electric_Range": "208",
                                    "Alternative Fuel Eligibility": "Clean Alternative Fuel Vehicle Eligible"
                                },
                                {
                                    "DOL_Vehicle_ID": "235033431",
                                    "Electric_Range": "0",
                                    "Alternative Fuel Eligibility": "Unknown"
                                },
                                {
                                    "DOL_Vehicle_ID": "240240276",
                                    "Electric_Range": "0",
                                    "Alternative Fuel Eligibility": "Unknown"
                                },
                                {
                                    "DOL_Vehicle_ID": "141313168",
                                    "Electric_Range": "0",
                                    "Alternative Fuel Eligibility": "Unknown"
                                },
                                {
                                    "DOL_Vehicle_ID": "207098538",
                                    "Electric_Range": "153",
                                    "Alternative Fuel Eligibility": "Clean Alternative Fuel Vehicle Eligible"
                                },
                                {
                                    "DOL_Vehicle_ID": "107117524",
                                    "Electric_Range": "84",
                                    "Alternative Fuel Eligibility": "Clean Alternative Fuel Vehicle Eligible"
                                },
                                {
                                    "DOL_Vehicle_ID": "124507946",
                                    "Electric_Range": "215",
                                    "Alternative Fuel Eligibility": "Clean Alternative Fuel Vehicle Eligible"
                                }
                            ]
                        },
                        "text/html": [
                            "<table>",
                            "<tr><th>DOL_Vehicle_ID</th><th>Electric_Range</th><th>Alternative Fuel Eligibility</th></tr>",
                            "<tr><td>161704854</td><td>0</td><td>Unknown</td></tr>",
                            "<tr><td>233909490</td><td>13</td><td>Not eligible due to low battery range</td></tr>",
                            "<tr><td>276006153</td><td>107</td><td>Clean Alternative Fuel Vehicle Eligible</td></tr>",
                            "<tr><td>220773423</td><td>208</td><td>Clean Alternative Fuel Vehicle Eligible</td></tr>",
                            "<tr><td>235033431</td><td>0</td><td>Unknown</td></tr>",
                            "<tr><td>240240276</td><td>0</td><td>Unknown</td></tr>",
                            "<tr><td>141313168</td><td>0</td><td>Unknown</td></tr>",
                            "<tr><td>207098538</td><td>153</td><td>Clean Alternative Fuel Vehicle Eligible</td></tr>",
                            "<tr><td>107117524</td><td>84</td><td>Clean Alternative Fuel Vehicle Eligible</td></tr>",
                            "<tr><td>124507946</td><td>215</td><td>Clean Alternative Fuel Vehicle Eligible</td></tr>",
                            "</table>"
                        ]
                    }
                }
            ],
            "execution_count": 5
        },
        {
            "cell_type": "markdown",
            "source": [
                ""
            ],
            "metadata": {
                "language": "sql",
                "azdata_cell_guid": "e5431c1c-e784-4bf7-8276-0b7a2a3e3aaf"
            }
        },
        {
            "cell_type": "markdown",
            "source": [
                "### **Handling a missing column in Electric\\_Vehicle\\_Registrations table**"
            ],
            "metadata": {
                "language": "sql",
                "azdata_cell_guid": "823fe46d-c320-4e38-a779-80a675a5c590"
            },
            "attachments": {}
        },
        {
            "cell_type": "markdown",
            "source": [
                ""
            ],
            "metadata": {
                "language": "sql",
                "azdata_cell_guid": "cbc9db45-4d83-4cb8-b33c-f35fce75d291"
            }
        },
        {
            "cell_type": "code",
            "source": [
                "ALTER TABLE PortfolioProjects.dbo.Electric_Vehicle_Registrations\r\n",
                "ADD [Alternative Fuel Eligibility] VARCHAR(55)"
            ],
            "metadata": {
                "language": "sql",
                "azdata_cell_guid": "687eb965-ce96-429c-81b2-e673a26ee7b0"
            },
            "outputs": [
                {
                    "output_type": "display_data",
                    "data": {
                        "text/html": "Commands completed successfully."
                    },
                    "metadata": {}
                },
                {
                    "output_type": "display_data",
                    "data": {
                        "text/html": "Total execution time: 00:00:00.010"
                    },
                    "metadata": {}
                }
            ],
            "execution_count": 6
        },
        {
            "cell_type": "markdown",
            "source": [
                ""
            ],
            "metadata": {
                "language": "sql",
                "azdata_cell_guid": "595b76d2-25f4-4753-b119-d60b4bba929c"
            }
        },
        {
            "cell_type": "code",
            "source": [
                "UPDATE PortfolioProjects.dbo.Electric_Vehicle_Registrations\r\n",
                "SET [Alternative Fuel Eligibility] = \r\n",
                "CASE\r\n",
                "WHEN Electric_Range = 0  THEN 'Unknown'\r\n",
                "WHEN Electric_Range < 30 THEN 'Not eligible due to low battery range'\r\n",
                "ELSE 'Clean Alternative Fuel Vehicle Eligible'\r\n",
                "END"
            ],
            "metadata": {
                "language": "sql",
                "azdata_cell_guid": "c61f7e9b-bfcb-4e57-84b8-0505238a6587"
            },
            "outputs": [
                {
                    "output_type": "display_data",
                    "data": {
                        "text/html": "Commands completed successfully."
                    },
                    "metadata": {}
                },
                {
                    "output_type": "display_data",
                    "data": {
                        "text/html": "Total execution time: 00:00:07.966"
                    },
                    "metadata": {}
                }
            ],
            "execution_count": 7
        },
        {
            "cell_type": "markdown",
            "source": [
                ""
            ],
            "metadata": {
                "language": "sql",
                "azdata_cell_guid": "19334973-19a7-4297-8ce8-17c4bd0b3546"
            }
        },
        {
            "cell_type": "markdown",
            "source": [
                "## **Basic descriptive statistics**"
            ],
            "metadata": {
                "language": "sql",
                "azdata_cell_guid": "f9b713df-8600-4011-b7c3-920b0c0a8682"
            },
            "attachments": {}
        },
        {
            "cell_type": "markdown",
            "source": [
                ""
            ],
            "metadata": {
                "azdata_cell_guid": "fd408b89-8073-4239-ad89-9d6e2c348b62"
            }
        },
        {
            "cell_type": "code",
            "source": [
                "CREATE PROCEDURE usp_Basic_Descriptive_Statistics\r\n",
                "@column_name VARCHAR(55)\r\n",
                "AS\r\n",
                "BEGIN\r\n",
                "DECLARE @sql NVARCHAR(MAX)\r\n",
                "\r\n",
                "SET @sql = \r\n",
                "'\r\n",
                "SELECT MIN('+QUOTENAME(@column_name)+') AS ''Min of '+QUOTENAME(@column_name)+''',\r\n",
                "AVG('+QUOTENAME(@column_name)+') AS ''Average of '+QUOTENAME(@column_name)+''',\r\n",
                "MAX('+QUOTENAME(@column_name)+') AS ''Maximum of '+QUOTENAME(@column_name)+''',\r\n",
                "STDEV('+QUOTENAME(@column_name)+') AS ''Standard Deviation of '+QUOTENAME(@column_name)+'''\r\n",
                "FROM PortfolioProjects.Dbo.Electric_Vehicle_Registrations\r\n",
                "'\r\n",
                "EXEC sp_executesql @sql\r\n",
                "END"
            ],
            "metadata": {
                "azdata_cell_guid": "0289cfe6-aabc-4fdb-9a04-31075ad63693",
                "language": "sql"
            },
            "outputs": [
                {
                    "output_type": "display_data",
                    "data": {
                        "text/html": "Commands completed successfully."
                    },
                    "metadata": {}
                },
                {
                    "output_type": "display_data",
                    "data": {
                        "text/html": "Total execution time: 00:00:00.008"
                    },
                    "metadata": {}
                }
            ],
            "execution_count": 8
        },
        {
            "cell_type": "markdown",
            "source": [
                ""
            ],
            "metadata": {
                "language": "sql",
                "azdata_cell_guid": "8a672615-7984-47f9-921e-9f35d4eee420"
            }
        },
        {
            "cell_type": "markdown",
            "source": [
                "### \n",
                "\n",
                "- **Electric range**"
            ],
            "metadata": {
                "language": "sql",
                "azdata_cell_guid": "7c984695-07f2-4412-bda4-7a1beafc7744"
            },
            "attachments": {}
        },
        {
            "cell_type": "code",
            "source": [
                "usp_Basic_Descriptive_Statistics @column_name = 'Electric_Range'"
            ],
            "metadata": {
                "language": "sql",
                "azdata_cell_guid": "54c52013-54f2-46ec-b771-10ba26f640c1"
            },
            "outputs": [
                {
                    "output_type": "display_data",
                    "data": {
                        "text/html": "Commands completed successfully."
                    },
                    "metadata": {}
                },
                {
                    "output_type": "display_data",
                    "data": {
                        "text/html": "Total execution time: 00:00:00.155"
                    },
                    "metadata": {}
                },
                {
                    "output_type": "execute_result",
                    "metadata": {},
                    "execution_count": 9,
                    "data": {
                        "application/vnd.dataresource+json": {
                            "schema": {
                                "fields": [
                                    {
                                        "name": "Min of [Electric_Range]"
                                    },
                                    {
                                        "name": "Average of [Electric_Range]"
                                    },
                                    {
                                        "name": "Maximum of [Electric_Range]"
                                    },
                                    {
                                        "name": "Standard Deviation of [Electric_Range]"
                                    }
                                ]
                            },
                            "data": [
                                {
                                    "Min of [Electric_Range]": "0",
                                    "Average of [Electric_Range]": "92.95042240143657",
                                    "Maximum of [Electric_Range]": "337",
                                    "Standard Deviation of [Electric_Range]": "95.42923121125293"
                                }
                            ]
                        },
                        "text/html": [
                            "<table>",
                            "<tr><th>Min of [Electric_Range]</th><th>Average of [Electric_Range]</th><th>Maximum of [Electric_Range]</th><th>Standard Deviation of [Electric_Range]</th></tr>",
                            "<tr><td>0</td><td>92.95042240143657</td><td>337</td><td>95.42923121125293</td></tr>",
                            "</table>"
                        ]
                    }
                }
            ],
            "execution_count": 9
        },
        {
            "cell_type": "markdown",
            "source": [
                ""
            ],
            "metadata": {
                "language": "sql",
                "azdata_cell_guid": "ec5b61c7-1157-45ed-8b4d-50674e0abb6e"
            }
        },
        {
            "cell_type": "markdown",
            "source": [
                "### \n",
                "\n",
                "- <span style=\"font-size: 16.38px;\"><b>Odometer reading</b></span>"
            ],
            "metadata": {
                "language": "sql",
                "azdata_cell_guid": "83da1fbd-5be9-4b1f-bd58-429b649d344b"
            },
            "attachments": {}
        },
        {
            "cell_type": "code",
            "source": [
                "usp_Basic_Descriptive_Statistics @column_name = 'Odometer_Reading'"
            ],
            "metadata": {
                "language": "sql",
                "azdata_cell_guid": "11a8b4e4-2ddb-4b23-b674-06ba34819f90"
            },
            "outputs": [
                {
                    "output_type": "display_data",
                    "data": {
                        "text/html": "Commands completed successfully."
                    },
                    "metadata": {}
                },
                {
                    "output_type": "display_data",
                    "data": {
                        "text/html": "Total execution time: 00:00:00.118"
                    },
                    "metadata": {}
                },
                {
                    "output_type": "execute_result",
                    "metadata": {},
                    "execution_count": 10,
                    "data": {
                        "application/vnd.dataresource+json": {
                            "schema": {
                                "fields": [
                                    {
                                        "name": "Min of [Odometer_Reading]"
                                    },
                                    {
                                        "name": "Average of [Odometer_Reading]"
                                    },
                                    {
                                        "name": "Maximum of [Odometer_Reading]"
                                    },
                                    {
                                        "name": "Standard Deviation of [Odometer_Reading]"
                                    }
                                ]
                            },
                            "data": [
                                {
                                    "Min of [Odometer_Reading]": "0",
                                    "Average of [Odometer_Reading]": "2889.7465220364807",
                                    "Maximum of [Odometer_Reading]": "962619",
                                    "Standard Deviation of [Odometer_Reading]": "11839.12483577425"
                                }
                            ]
                        },
                        "text/html": [
                            "<table>",
                            "<tr><th>Min of [Odometer_Reading]</th><th>Average of [Odometer_Reading]</th><th>Maximum of [Odometer_Reading]</th><th>Standard Deviation of [Odometer_Reading]</th></tr>",
                            "<tr><td>0</td><td>2889.7465220364807</td><td>962619</td><td>11839.12483577425</td></tr>",
                            "</table>"
                        ]
                    }
                }
            ],
            "execution_count": 10
        },
        {
            "cell_type": "markdown",
            "source": [
                ""
            ],
            "metadata": {
                "language": "sql",
                "azdata_cell_guid": "3bea521f-dd41-439e-80e2-80309a4f6457"
            }
        },
        {
            "cell_type": "markdown",
            "source": [
                "### \n",
                "\n",
                "- <span style=\"font-size: 16.38px;\"><b>Sale price</b></span>"
            ],
            "metadata": {
                "language": "sql",
                "azdata_cell_guid": "0fa0fa27-6963-453e-820d-dc4927b6964f"
            },
            "attachments": {}
        },
        {
            "cell_type": "code",
            "source": [
                "usp_Basic_Descriptive_Statistics @column_name = 'Sale_Price'"
            ],
            "metadata": {
                "language": "sql",
                "azdata_cell_guid": "e8b074f1-fa1d-4c04-8f7e-18850db6f39d"
            },
            "outputs": [
                {
                    "output_type": "display_data",
                    "data": {
                        "text/html": "Commands completed successfully."
                    },
                    "metadata": {}
                },
                {
                    "output_type": "display_data",
                    "data": {
                        "text/html": "Total execution time: 00:00:00.119"
                    },
                    "metadata": {}
                },
                {
                    "output_type": "execute_result",
                    "metadata": {},
                    "execution_count": 11,
                    "data": {
                        "application/vnd.dataresource+json": {
                            "schema": {
                                "fields": [
                                    {
                                        "name": "Min of [Sale_Price]"
                                    },
                                    {
                                        "name": "Average of [Sale_Price]"
                                    },
                                    {
                                        "name": "Maximum of [Sale_Price]"
                                    },
                                    {
                                        "name": "Standard Deviation of [Sale_Price]"
                                    }
                                ]
                            },
                            "data": [
                                {
                                    "Min of [Sale_Price]": "0",
                                    "Average of [Sale_Price]": "11045.782480883414",
                                    "Maximum of [Sale_Price]": "12312016",
                                    "Standard Deviation of [Sale_Price]": "30148.70569646945"
                                }
                            ]
                        },
                        "text/html": [
                            "<table>",
                            "<tr><th>Min of [Sale_Price]</th><th>Average of [Sale_Price]</th><th>Maximum of [Sale_Price]</th><th>Standard Deviation of [Sale_Price]</th></tr>",
                            "<tr><td>0</td><td>11045.782480883414</td><td>12312016</td><td>30148.70569646945</td></tr>",
                            "</table>"
                        ]
                    }
                }
            ],
            "execution_count": 11
        },
        {
            "cell_type": "markdown",
            "source": [
                ""
            ],
            "metadata": {
                "language": "sql",
                "azdata_cell_guid": "14799f38-8961-4e4b-aff9-a01eb4d972b4"
            }
        },
        {
            "cell_type": "markdown",
            "source": [
                "### \n",
                "\n",
                "- <span style=\"font-size: 16.38px;\"><b>Base manufacturer's suggested retail price</b></span>"
            ],
            "metadata": {
                "language": "sql",
                "azdata_cell_guid": "bdbb97cf-76ea-419c-8086-41c38e9c5e3f"
            },
            "attachments": {}
        },
        {
            "cell_type": "code",
            "source": [
                "usp_Basic_Descriptive_Statistics @column_name = 'Base_MSRP'"
            ],
            "metadata": {
                "language": "sql",
                "azdata_cell_guid": "48988c8a-30d0-4588-a4f5-db4d5a9e758b"
            },
            "outputs": [
                {
                    "output_type": "display_data",
                    "data": {
                        "text/html": "Commands completed successfully."
                    },
                    "metadata": {}
                },
                {
                    "output_type": "display_data",
                    "data": {
                        "text/html": "Total execution time: 00:00:00.165"
                    },
                    "metadata": {}
                },
                {
                    "output_type": "execute_result",
                    "metadata": {},
                    "execution_count": 12,
                    "data": {
                        "application/vnd.dataresource+json": {
                            "schema": {
                                "fields": [
                                    {
                                        "name": "Min of [Base_MSRP]"
                                    },
                                    {
                                        "name": "Average of [Base_MSRP]"
                                    },
                                    {
                                        "name": "Maximum of [Base_MSRP]"
                                    },
                                    {
                                        "name": "Standard Deviation of [Base_MSRP]"
                                    }
                                ]
                            },
                            "data": [
                                {
                                    "Min of [Base_MSRP]": "0",
                                    "Average of [Base_MSRP]": "2883.0776189692933",
                                    "Maximum of [Base_MSRP]": "845000",
                                    "Standard Deviation of [Base_MSRP]": "13764.3006884115"
                                }
                            ]
                        },
                        "text/html": [
                            "<table>",
                            "<tr><th>Min of [Base_MSRP]</th><th>Average of [Base_MSRP]</th><th>Maximum of [Base_MSRP]</th><th>Standard Deviation of [Base_MSRP]</th></tr>",
                            "<tr><td>0</td><td>2883.0776189692933</td><td>845000</td><td>13764.3006884115</td></tr>",
                            "</table>"
                        ]
                    }
                }
            ],
            "execution_count": 12
        },
        {
            "cell_type": "markdown",
            "source": [
                ""
            ],
            "metadata": {
                "language": "sql",
                "azdata_cell_guid": "4262a4b5-b5ed-4e65-9de1-0d869ccf93f2"
            }
        },
        {
            "cell_type": "markdown",
            "source": [
                "# **Phase 2: Electric vehicle trends**"
            ],
            "metadata": {
                "language": "sql",
                "azdata_cell_guid": "07227145-b794-4692-b2d6-d507e53ba138"
            },
            "attachments": {}
        },
        {
            "cell_type": "markdown",
            "source": [
                "## **Crafting a Supporting Table**"
            ],
            "metadata": {
                "azdata_cell_guid": "45c982d4-ad5a-4488-9230-d5f58c2be107"
            },
            "attachments": {}
        },
        {
            "cell_type": "markdown",
            "source": [
                ""
            ],
            "metadata": {
                "azdata_cell_guid": "7f6338d8-b3d8-409a-8a56-9162e8287f4c"
            }
        },
        {
            "cell_type": "code",
            "source": [
                "WITH CTE AS\r\n",
                "(\r\n",
                "SELECT DOL_Vehicle_ID,Electric_Vehicle_Type,Electric_Range,Make,[Alternative Fuel Eligibility] \r\n",
                "FROM PortfolioProjects.Dbo.Electric_Vehicle_Population\r\n",
                "\r\n",
                "UNION\r\n",
                "\r\n",
                "SELECT DOL_Vehicle_ID,Electric_Vehicle_Type,Electric_Range,Make,[Alternative Fuel Eligibility]\r\n",
                "FROM PortfolioProjects.Dbo.Electric_Vehicle_Registrations\r\n",
                ")\r\n",
                "\r\n",
                "SELECT *,'#############' AS 'Electric range group'  INTO SupportTable FROM CTE"
            ],
            "metadata": {
                "azdata_cell_guid": "2e431325-3d61-4630-8dbe-5c34340f98a3",
                "language": "sql"
            },
            "outputs": [
                {
                    "output_type": "display_data",
                    "data": {
                        "text/html": "Commands completed successfully."
                    },
                    "metadata": {}
                },
                {
                    "output_type": "display_data",
                    "data": {
                        "text/html": "Total execution time: 00:00:01.434"
                    },
                    "metadata": {}
                }
            ],
            "execution_count": 13
        },
        {
            "cell_type": "markdown",
            "source": [
                ""
            ],
            "metadata": {
                "language": "sql",
                "azdata_cell_guid": "e5fdbf9b-b626-45bb-b2f4-7e4c86d3d8ba"
            }
        },
        {
            "cell_type": "markdown",
            "source": [
                "### **Detecting the redundant transaction IDs**"
            ],
            "metadata": {
                "language": "sql",
                "azdata_cell_guid": "c3fbca3f-6dfa-4847-94a3-d896b84cc197"
            },
            "attachments": {}
        },
        {
            "cell_type": "markdown",
            "source": [
                ""
            ],
            "metadata": {
                "language": "sql",
                "azdata_cell_guid": "d8f87e77-bdb1-4754-b55c-4406e1ca224c"
            }
        },
        {
            "cell_type": "code",
            "source": [
                "SELECT * FROM SupportTable WHERE DOL_Vehicle_ID in\r\n",
                "(\r\n",
                "SELECT DISTINCT(DOL_Vehicle_ID) FROM SupportTable\r\n",
                "GROUP BY DOL_Vehicle_ID\r\n",
                "HAVING COUNT(DOL_Vehicle_ID) > 1\r\n",
                ")"
            ],
            "metadata": {
                "language": "sql",
                "azdata_cell_guid": "e1b99616-1f99-4f29-a2e0-ac5c69ec4f43"
            },
            "outputs": [
                {
                    "output_type": "display_data",
                    "data": {
                        "text/html": "Commands completed successfully."
                    },
                    "metadata": {}
                },
                {
                    "output_type": "display_data",
                    "data": {
                        "text/html": "Total execution time: 00:00:00.178"
                    },
                    "metadata": {}
                },
                {
                    "output_type": "execute_result",
                    "metadata": {},
                    "execution_count": 14,
                    "data": {
                        "application/vnd.dataresource+json": {
                            "schema": {
                                "fields": [
                                    {
                                        "name": "DOL_Vehicle_ID"
                                    },
                                    {
                                        "name": "Electric_Vehicle_Type"
                                    },
                                    {
                                        "name": "Electric_Range"
                                    },
                                    {
                                        "name": "Make"
                                    },
                                    {
                                        "name": "Alternative Fuel Eligibility"
                                    },
                                    {
                                        "name": "Electric range group"
                                    }
                                ]
                            },
                            "data": [
                                {
                                    "DOL_Vehicle_ID": "192417662",
                                    "Electric_Vehicle_Type": "Battery Electric Vehicle (BEV)",
                                    "Electric_Range": "203",
                                    "Make": "PORSCHE",
                                    "Alternative Fuel Eligibility": "Clean Alternative Fuel Vehicle Eligible",
                                    "Electric range group": "#############"
                                },
                                {
                                    "DOL_Vehicle_ID": "192417662",
                                    "Electric_Vehicle_Type": "Battery Electric Vehicle (BEV)",
                                    "Electric_Range": "0",
                                    "Make": "PORSCHE",
                                    "Alternative Fuel Eligibility": "Unknown",
                                    "Electric range group": "#############"
                                }
                            ]
                        },
                        "text/html": [
                            "<table>",
                            "<tr><th>DOL_Vehicle_ID</th><th>Electric_Vehicle_Type</th><th>Electric_Range</th><th>Make</th><th>Alternative Fuel Eligibility</th><th>Electric range group</th></tr>",
                            "<tr><td>192417662</td><td>Battery Electric Vehicle (BEV)</td><td>203</td><td>PORSCHE</td><td>Clean Alternative Fuel Vehicle Eligible</td><td>#############</td></tr>",
                            "<tr><td>192417662</td><td>Battery Electric Vehicle (BEV)</td><td>0</td><td>PORSCHE</td><td>Unknown</td><td>#############</td></tr>",
                            "</table>"
                        ]
                    }
                }
            ],
            "execution_count": 14
        },
        {
            "cell_type": "markdown",
            "source": [
                ""
            ],
            "metadata": {
                "language": "sql",
                "azdata_cell_guid": "268c56b7-065c-43ba-abe3-3d672e7d106c"
            }
        },
        {
            "cell_type": "markdown",
            "source": [
                "### **Deleting the redundant transaction ID**"
            ],
            "metadata": {
                "language": "sql",
                "azdata_cell_guid": "7172b1df-a399-4b61-b1fa-eaf56fa77501"
            },
            "attachments": {}
        },
        {
            "cell_type": "markdown",
            "source": [
                ""
            ],
            "metadata": {
                "language": "sql",
                "azdata_cell_guid": "216c7872-70d4-482b-b755-b2f67993ea0c"
            }
        },
        {
            "cell_type": "code",
            "source": [
                "DELETE FROM SupportTable\r\n",
                "WHERE DOL_Vehicle_ID = '192417662' AND [Alternative Fuel Eligibility] = 'Unknown'"
            ],
            "metadata": {
                "language": "sql",
                "azdata_cell_guid": "d9a328f0-636d-4c7a-81ce-98f9554975cb"
            },
            "outputs": [
                {
                    "output_type": "display_data",
                    "data": {
                        "text/html": "Commands completed successfully."
                    },
                    "metadata": {}
                },
                {
                    "output_type": "display_data",
                    "data": {
                        "text/html": "Total execution time: 00:00:00.216"
                    },
                    "metadata": {}
                }
            ],
            "execution_count": 15
        },
        {
            "cell_type": "markdown",
            "source": [
                ""
            ],
            "metadata": {
                "language": "sql",
                "azdata_cell_guid": "c84cb640-d8d9-4069-9495-b5d1864f0b63"
            }
        },
        {
            "cell_type": "markdown",
            "source": [
                "## **Electric vehicle adoption over time**"
            ],
            "metadata": {
                "language": "sql",
                "azdata_cell_guid": "9541c83c-537e-4c31-99b7-7f7bf2aca9ee"
            },
            "attachments": {}
        },
        {
            "cell_type": "markdown",
            "source": [
                ""
            ],
            "metadata": {
                "language": "sql",
                "azdata_cell_guid": "c21e3807-ce84-4de5-aa78-4eaf83ee074e"
            }
        },
        {
            "cell_type": "code",
            "source": [
                "SELECT Transaction_Year,COUNT(*) AS 'Number of transactions' FROM PortfolioProjects.dbo.Electric_Vehicle_Registrations\r\n",
                "GROUP BY Transaction_Year ORDER BY 1 ASC"
            ],
            "metadata": {
                "language": "sql",
                "azdata_cell_guid": "0021d101-2356-411e-9bdb-e700027ec57a"
            },
            "outputs": [
                {
                    "output_type": "display_data",
                    "data": {
                        "text/html": "Commands completed successfully."
                    },
                    "metadata": {}
                },
                {
                    "output_type": "display_data",
                    "data": {
                        "text/html": "Total execution time: 00:00:00.114"
                    },
                    "metadata": {}
                },
                {
                    "output_type": "execute_result",
                    "metadata": {},
                    "execution_count": 16,
                    "data": {
                        "application/vnd.dataresource+json": {
                            "schema": {
                                "fields": [
                                    {
                                        "name": "Transaction_Year"
                                    },
                                    {
                                        "name": "Number of transactions"
                                    }
                                ]
                            },
                            "data": [
                                {
                                    "Transaction_Year": "2010",
                                    "Number of transactions": "110"
                                },
                                {
                                    "Transaction_Year": "2011",
                                    "Number of transactions": "2488"
                                },
                                {
                                    "Transaction_Year": "2012",
                                    "Number of transactions": "4953"
                                },
                                {
                                    "Transaction_Year": "2013",
                                    "Number of transactions": "12842"
                                },
                                {
                                    "Transaction_Year": "2014",
                                    "Number of transactions": "17821"
                                },
                                {
                                    "Transaction_Year": "2015",
                                    "Number of transactions": "23283"
                                },
                                {
                                    "Transaction_Year": "2016",
                                    "Number of transactions": "31284"
                                },
                                {
                                    "Transaction_Year": "2017",
                                    "Number of transactions": "43123"
                                },
                                {
                                    "Transaction_Year": "2018",
                                    "Number of transactions": "62001"
                                },
                                {
                                    "Transaction_Year": "2019",
                                    "Number of transactions": "77177"
                                },
                                {
                                    "Transaction_Year": "2020",
                                    "Number of transactions": "88330"
                                },
                                {
                                    "Transaction_Year": "2021",
                                    "Number of transactions": "122336"
                                },
                                {
                                    "Transaction_Year": "2022",
                                    "Number of transactions": "164996"
                                },
                                {
                                    "Transaction_Year": "2023",
                                    "Number of transactions": "157847"
                                }
                            ]
                        },
                        "text/html": [
                            "<table>",
                            "<tr><th>Transaction_Year</th><th>Number of transactions</th></tr>",
                            "<tr><td>2010</td><td>110</td></tr>",
                            "<tr><td>2011</td><td>2488</td></tr>",
                            "<tr><td>2012</td><td>4953</td></tr>",
                            "<tr><td>2013</td><td>12842</td></tr>",
                            "<tr><td>2014</td><td>17821</td></tr>",
                            "<tr><td>2015</td><td>23283</td></tr>",
                            "<tr><td>2016</td><td>31284</td></tr>",
                            "<tr><td>2017</td><td>43123</td></tr>",
                            "<tr><td>2018</td><td>62001</td></tr>",
                            "<tr><td>2019</td><td>77177</td></tr>",
                            "<tr><td>2020</td><td>88330</td></tr>",
                            "<tr><td>2021</td><td>122336</td></tr>",
                            "<tr><td>2022</td><td>164996</td></tr>",
                            "<tr><td>2023</td><td>157847</td></tr>",
                            "</table>"
                        ]
                    }
                }
            ],
            "execution_count": 16
        },
        {
            "cell_type": "markdown",
            "source": [
                ""
            ],
            "metadata": {
                "language": "sql",
                "azdata_cell_guid": "759eb931-af7d-4469-bafd-d7546ae8da71"
            }
        },
        {
            "cell_type": "markdown",
            "source": [
                "## **Market share analysis**"
            ],
            "metadata": {
                "language": "sql",
                "azdata_cell_guid": "9851c5aa-90be-4cc4-a580-948d8f956939"
            },
            "attachments": {}
        },
        {
            "cell_type": "markdown",
            "source": [
                ""
            ],
            "metadata": {
                "language": "sql",
                "azdata_cell_guid": "f6d8d90a-8990-43be-93e2-ffdfca2496b2"
            }
        },
        {
            "cell_type": "code",
            "source": [
                "SELECT Electric_Vehicle_Type,COUNT(DOL_Vehicle_ID) AS 'Count of vehicles' FROM SupportTable\r\n",
                "GROUP BY Electric_Vehicle_Type ORDER BY 2 DESC"
            ],
            "metadata": {
                "language": "sql",
                "azdata_cell_guid": "29c17fcd-0817-4b3f-85b9-84cf6fa60a72"
            },
            "outputs": [
                {
                    "output_type": "display_data",
                    "data": {
                        "text/html": "Commands completed successfully."
                    },
                    "metadata": {}
                },
                {
                    "output_type": "display_data",
                    "data": {
                        "text/html": "Total execution time: 00:00:00.147"
                    },
                    "metadata": {}
                },
                {
                    "output_type": "execute_result",
                    "metadata": {},
                    "execution_count": 17,
                    "data": {
                        "application/vnd.dataresource+json": {
                            "schema": {
                                "fields": [
                                    {
                                        "name": "Electric_Vehicle_Type"
                                    },
                                    {
                                        "name": "Count of vehicles"
                                    }
                                ]
                            },
                            "data": [
                                {
                                    "Electric_Vehicle_Type": "Battery Electric Vehicle (BEV)",
                                    "Count of vehicles": "141220"
                                },
                                {
                                    "Electric_Vehicle_Type": "Plug-in Hybrid Electric Vehicle (PHEV)",
                                    "Count of vehicles": "42671"
                                },
                                {
                                    "Electric_Vehicle_Type": "Hydrogen Powered Vehicle",
                                    "Count of vehicles": "2"
                                }
                            ]
                        },
                        "text/html": [
                            "<table>",
                            "<tr><th>Electric_Vehicle_Type</th><th>Count of vehicles</th></tr>",
                            "<tr><td>Battery Electric Vehicle (BEV)</td><td>141220</td></tr>",
                            "<tr><td>Plug-in Hybrid Electric Vehicle (PHEV)</td><td>42671</td></tr>",
                            "<tr><td>Hydrogen Powered Vehicle</td><td>2</td></tr>",
                            "</table>"
                        ]
                    }
                }
            ],
            "execution_count": 17
        },
        {
            "cell_type": "markdown",
            "source": [
                ""
            ],
            "metadata": {
                "language": "sql",
                "azdata_cell_guid": "fc853412-1e5b-40fa-b727-46fa88c861da"
            }
        },
        {
            "cell_type": "code",
            "source": [
                "SELECT Transaction_Year,Electric_Vehicle_Type,COUNT(*) AS 'Number of transactions' FROM PortfolioProjects.dbo.Electric_Vehicle_Registrations\r\n",
                "GROUP BY Transaction_Year,Electric_Vehicle_Type ORDER BY 1 ASC"
            ],
            "metadata": {
                "language": "sql",
                "azdata_cell_guid": "c76c3603-c15b-4031-b43a-63c4f98ab801"
            },
            "outputs": [
                {
                    "output_type": "display_data",
                    "data": {
                        "text/html": "Commands completed successfully."
                    },
                    "metadata": {}
                },
                {
                    "output_type": "display_data",
                    "data": {
                        "text/html": "Total execution time: 00:00:00.221"
                    },
                    "metadata": {}
                },
                {
                    "output_type": "execute_result",
                    "metadata": {},
                    "execution_count": 18,
                    "data": {
                        "application/vnd.dataresource+json": {
                            "schema": {
                                "fields": [
                                    {
                                        "name": "Transaction_Year"
                                    },
                                    {
                                        "name": "Electric_Vehicle_Type"
                                    },
                                    {
                                        "name": "Number of transactions"
                                    }
                                ]
                            },
                            "data": [
                                {
                                    "Transaction_Year": "2010",
                                    "Electric_Vehicle_Type": "Battery Electric Vehicle (BEV)",
                                    "Number of transactions": "104"
                                },
                                {
                                    "Transaction_Year": "2010",
                                    "Electric_Vehicle_Type": "Plug-in Hybrid Electric Vehicle (PHEV)",
                                    "Number of transactions": "6"
                                },
                                {
                                    "Transaction_Year": "2011",
                                    "Electric_Vehicle_Type": "Battery Electric Vehicle (BEV)",
                                    "Number of transactions": "2216"
                                },
                                {
                                    "Transaction_Year": "2011",
                                    "Electric_Vehicle_Type": "Plug-in Hybrid Electric Vehicle (PHEV)",
                                    "Number of transactions": "272"
                                },
                                {
                                    "Transaction_Year": "2012",
                                    "Electric_Vehicle_Type": "Battery Electric Vehicle (BEV)",
                                    "Number of transactions": "2838"
                                },
                                {
                                    "Transaction_Year": "2012",
                                    "Electric_Vehicle_Type": "Plug-in Hybrid Electric Vehicle (PHEV)",
                                    "Number of transactions": "2115"
                                },
                                {
                                    "Transaction_Year": "2013",
                                    "Electric_Vehicle_Type": "Plug-in Hybrid Electric Vehicle (PHEV)",
                                    "Number of transactions": "3668"
                                },
                                {
                                    "Transaction_Year": "2013",
                                    "Electric_Vehicle_Type": "Battery Electric Vehicle (BEV)",
                                    "Number of transactions": "9174"
                                },
                                {
                                    "Transaction_Year": "2014",
                                    "Electric_Vehicle_Type": "Plug-in Hybrid Electric Vehicle (PHEV)",
                                    "Number of transactions": "5505"
                                },
                                {
                                    "Transaction_Year": "2014",
                                    "Electric_Vehicle_Type": "Battery Electric Vehicle (BEV)",
                                    "Number of transactions": "12316"
                                },
                                {
                                    "Transaction_Year": "2015",
                                    "Electric_Vehicle_Type": "Hydrogen Powered Vehicle",
                                    "Number of transactions": "2"
                                },
                                {
                                    "Transaction_Year": "2015",
                                    "Electric_Vehicle_Type": "Plug-in Hybrid Electric Vehicle (PHEV)",
                                    "Number of transactions": "6988"
                                },
                                {
                                    "Transaction_Year": "2015",
                                    "Electric_Vehicle_Type": "Battery Electric Vehicle (BEV)",
                                    "Number of transactions": "16293"
                                },
                                {
                                    "Transaction_Year": "2016",
                                    "Electric_Vehicle_Type": "Plug-in Hybrid Electric Vehicle (PHEV)",
                                    "Number of transactions": "11086"
                                },
                                {
                                    "Transaction_Year": "2016",
                                    "Electric_Vehicle_Type": "Battery Electric Vehicle (BEV)",
                                    "Number of transactions": "20198"
                                },
                                {
                                    "Transaction_Year": "2017",
                                    "Electric_Vehicle_Type": "Plug-in Hybrid Electric Vehicle (PHEV)",
                                    "Number of transactions": "14784"
                                },
                                {
                                    "Transaction_Year": "2017",
                                    "Electric_Vehicle_Type": "Battery Electric Vehicle (BEV)",
                                    "Number of transactions": "28339"
                                },
                                {
                                    "Transaction_Year": "2018",
                                    "Electric_Vehicle_Type": "Battery Electric Vehicle (BEV)",
                                    "Number of transactions": "41266"
                                },
                                {
                                    "Transaction_Year": "2018",
                                    "Electric_Vehicle_Type": "Plug-in Hybrid Electric Vehicle (PHEV)",
                                    "Number of transactions": "20735"
                                },
                                {
                                    "Transaction_Year": "2019",
                                    "Electric_Vehicle_Type": "Plug-in Hybrid Electric Vehicle (PHEV)",
                                    "Number of transactions": "22442"
                                },
                                {
                                    "Transaction_Year": "2019",
                                    "Electric_Vehicle_Type": "Battery Electric Vehicle (BEV)",
                                    "Number of transactions": "54735"
                                },
                                {
                                    "Transaction_Year": "2020",
                                    "Electric_Vehicle_Type": "Hydrogen Powered Vehicle",
                                    "Number of transactions": "1"
                                },
                                {
                                    "Transaction_Year": "2020",
                                    "Electric_Vehicle_Type": "Battery Electric Vehicle (BEV)",
                                    "Number of transactions": "64588"
                                },
                                {
                                    "Transaction_Year": "2020",
                                    "Electric_Vehicle_Type": "Plug-in Hybrid Electric Vehicle (PHEV)",
                                    "Number of transactions": "23741"
                                },
                                {
                                    "Transaction_Year": "2021",
                                    "Electric_Vehicle_Type": "Battery Electric Vehicle (BEV)",
                                    "Number of transactions": "90654"
                                },
                                {
                                    "Transaction_Year": "2021",
                                    "Electric_Vehicle_Type": "Plug-in Hybrid Electric Vehicle (PHEV)",
                                    "Number of transactions": "31682"
                                },
                                {
                                    "Transaction_Year": "2022",
                                    "Electric_Vehicle_Type": "Plug-in Hybrid Electric Vehicle (PHEV)",
                                    "Number of transactions": "36927"
                                },
                                {
                                    "Transaction_Year": "2022",
                                    "Electric_Vehicle_Type": "Battery Electric Vehicle (BEV)",
                                    "Number of transactions": "128069"
                                },
                                {
                                    "Transaction_Year": "2023",
                                    "Electric_Vehicle_Type": "Plug-in Hybrid Electric Vehicle (PHEV)",
                                    "Number of transactions": "33870"
                                },
                                {
                                    "Transaction_Year": "2023",
                                    "Electric_Vehicle_Type": "Battery Electric Vehicle (BEV)",
                                    "Number of transactions": "123977"
                                }
                            ]
                        },
                        "text/html": [
                            "<table>",
                            "<tr><th>Transaction_Year</th><th>Electric_Vehicle_Type</th><th>Number of transactions</th></tr>",
                            "<tr><td>2010</td><td>Battery Electric Vehicle (BEV)</td><td>104</td></tr>",
                            "<tr><td>2010</td><td>Plug-in Hybrid Electric Vehicle (PHEV)</td><td>6</td></tr>",
                            "<tr><td>2011</td><td>Battery Electric Vehicle (BEV)</td><td>2216</td></tr>",
                            "<tr><td>2011</td><td>Plug-in Hybrid Electric Vehicle (PHEV)</td><td>272</td></tr>",
                            "<tr><td>2012</td><td>Battery Electric Vehicle (BEV)</td><td>2838</td></tr>",
                            "<tr><td>2012</td><td>Plug-in Hybrid Electric Vehicle (PHEV)</td><td>2115</td></tr>",
                            "<tr><td>2013</td><td>Plug-in Hybrid Electric Vehicle (PHEV)</td><td>3668</td></tr>",
                            "<tr><td>2013</td><td>Battery Electric Vehicle (BEV)</td><td>9174</td></tr>",
                            "<tr><td>2014</td><td>Plug-in Hybrid Electric Vehicle (PHEV)</td><td>5505</td></tr>",
                            "<tr><td>2014</td><td>Battery Electric Vehicle (BEV)</td><td>12316</td></tr>",
                            "<tr><td>2015</td><td>Hydrogen Powered Vehicle</td><td>2</td></tr>",
                            "<tr><td>2015</td><td>Plug-in Hybrid Electric Vehicle (PHEV)</td><td>6988</td></tr>",
                            "<tr><td>2015</td><td>Battery Electric Vehicle (BEV)</td><td>16293</td></tr>",
                            "<tr><td>2016</td><td>Plug-in Hybrid Electric Vehicle (PHEV)</td><td>11086</td></tr>",
                            "<tr><td>2016</td><td>Battery Electric Vehicle (BEV)</td><td>20198</td></tr>",
                            "<tr><td>2017</td><td>Plug-in Hybrid Electric Vehicle (PHEV)</td><td>14784</td></tr>",
                            "<tr><td>2017</td><td>Battery Electric Vehicle (BEV)</td><td>28339</td></tr>",
                            "<tr><td>2018</td><td>Battery Electric Vehicle (BEV)</td><td>41266</td></tr>",
                            "<tr><td>2018</td><td>Plug-in Hybrid Electric Vehicle (PHEV)</td><td>20735</td></tr>",
                            "<tr><td>2019</td><td>Plug-in Hybrid Electric Vehicle (PHEV)</td><td>22442</td></tr>",
                            "<tr><td>2019</td><td>Battery Electric Vehicle (BEV)</td><td>54735</td></tr>",
                            "<tr><td>2020</td><td>Hydrogen Powered Vehicle</td><td>1</td></tr>",
                            "<tr><td>2020</td><td>Battery Electric Vehicle (BEV)</td><td>64588</td></tr>",
                            "<tr><td>2020</td><td>Plug-in Hybrid Electric Vehicle (PHEV)</td><td>23741</td></tr>",
                            "<tr><td>2021</td><td>Battery Electric Vehicle (BEV)</td><td>90654</td></tr>",
                            "<tr><td>2021</td><td>Plug-in Hybrid Electric Vehicle (PHEV)</td><td>31682</td></tr>",
                            "<tr><td>2022</td><td>Plug-in Hybrid Electric Vehicle (PHEV)</td><td>36927</td></tr>",
                            "<tr><td>2022</td><td>Battery Electric Vehicle (BEV)</td><td>128069</td></tr>",
                            "<tr><td>2023</td><td>Plug-in Hybrid Electric Vehicle (PHEV)</td><td>33870</td></tr>",
                            "<tr><td>2023</td><td>Battery Electric Vehicle (BEV)</td><td>123977</td></tr>",
                            "</table>"
                        ]
                    }
                }
            ],
            "execution_count": 18
        },
        {
            "cell_type": "markdown",
            "source": [
                ""
            ],
            "metadata": {
                "language": "sql",
                "azdata_cell_guid": "b9679672-80b5-4310-aaeb-564c5e4673bd"
            }
        },
        {
            "cell_type": "markdown",
            "source": [
                "## **Most popular electric vehicle models**"
            ],
            "metadata": {
                "language": "sql",
                "azdata_cell_guid": "25f819c3-55aa-4c16-9433-fbfcc0c9a855"
            },
            "attachments": {}
        },
        {
            "cell_type": "markdown",
            "source": [
                ""
            ],
            "metadata": {
                "language": "sql",
                "azdata_cell_guid": "ba2e3e81-5e68-4242-a9a2-30171a270e3c"
            }
        },
        {
            "cell_type": "code",
            "source": [
                "SELECT TOP 7 Model,COUNT(*) AS 'Number of transactions' FROM PortfolioProjects.dbo.Electric_Vehicle_Registrations\r\n",
                "GROUP BY Model ORDER BY 2 DESC"
            ],
            "metadata": {
                "language": "sql",
                "azdata_cell_guid": "65fa9fd9-b5cc-4b43-a51f-1fc775bb461e"
            },
            "outputs": [
                {
                    "output_type": "display_data",
                    "data": {
                        "text/html": "Commands completed successfully."
                    },
                    "metadata": {}
                },
                {
                    "output_type": "display_data",
                    "data": {
                        "text/html": "Total execution time: 00:00:00.098"
                    },
                    "metadata": {}
                },
                {
                    "output_type": "execute_result",
                    "metadata": {},
                    "execution_count": 19,
                    "data": {
                        "application/vnd.dataresource+json": {
                            "schema": {
                                "fields": [
                                    {
                                        "name": "Model"
                                    },
                                    {
                                        "name": "Number of transactions"
                                    }
                                ]
                            },
                            "data": [
                                {
                                    "Model": "Leaf",
                                    "Number of transactions": "146406"
                                },
                                {
                                    "Model": "Model 3",
                                    "Number of transactions": "130404"
                                },
                                {
                                    "Model": "Model Y",
                                    "Number of transactions": "84954"
                                },
                                {
                                    "Model": "Model S",
                                    "Number of transactions": "65003"
                                },
                                {
                                    "Model": "Volt",
                                    "Number of transactions": "52242"
                                },
                                {
                                    "Model": "Bolt EV",
                                    "Number of transactions": "29723"
                                },
                                {
                                    "Model": "Model X",
                                    "Number of transactions": "28680"
                                }
                            ]
                        },
                        "text/html": [
                            "<table>",
                            "<tr><th>Model</th><th>Number of transactions</th></tr>",
                            "<tr><td>Leaf</td><td>146406</td></tr>",
                            "<tr><td>Model 3</td><td>130404</td></tr>",
                            "<tr><td>Model Y</td><td>84954</td></tr>",
                            "<tr><td>Model S</td><td>65003</td></tr>",
                            "<tr><td>Volt</td><td>52242</td></tr>",
                            "<tr><td>Bolt EV</td><td>29723</td></tr>",
                            "<tr><td>Model X</td><td>28680</td></tr>",
                            "</table>"
                        ]
                    }
                }
            ],
            "execution_count": 19
        },
        {
            "cell_type": "markdown",
            "source": [
                ""
            ],
            "metadata": {
                "language": "sql",
                "azdata_cell_guid": "5fffef43-01b0-4422-985f-adfc220eb618"
            }
        },
        {
            "cell_type": "code",
            "source": [
                "SELECT Transaction_Year,Model,COUNT(*) AS 'Number of transactions' FROM PortfolioProjects.Dbo.Electric_Vehicle_Registrations\r\n",
                "GROUP BY Transaction_Year,Model\r\n",
                "HAVING Model in (SELECT TOP 5 Model FROM PortfolioProjects.dbo.Electric_Vehicle_Registrations GROUP BY Model ORDER BY COUNT(*) DESC)\r\n",
                "ORDER BY 1 ASC"
            ],
            "metadata": {
                "language": "sql",
                "azdata_cell_guid": "23df04ef-2fba-4538-8bd1-4bf7ea116181"
            },
            "outputs": [
                {
                    "output_type": "display_data",
                    "data": {
                        "text/html": "Commands completed successfully."
                    },
                    "metadata": {}
                },
                {
                    "output_type": "display_data",
                    "data": {
                        "text/html": "Total execution time: 00:00:00.268"
                    },
                    "metadata": {}
                },
                {
                    "output_type": "execute_result",
                    "metadata": {},
                    "execution_count": 20,
                    "data": {
                        "application/vnd.dataresource+json": {
                            "schema": {
                                "fields": [
                                    {
                                        "name": "Transaction_Year"
                                    },
                                    {
                                        "name": "Model"
                                    },
                                    {
                                        "name": "Number of transactions"
                                    }
                                ]
                            },
                            "data": [
                                {
                                    "Transaction_Year": "2011",
                                    "Model": "Volt",
                                    "Number of transactions": "269"
                                },
                                {
                                    "Transaction_Year": "2011",
                                    "Model": "Leaf",
                                    "Number of transactions": "2086"
                                },
                                {
                                    "Transaction_Year": "2012",
                                    "Model": "Volt",
                                    "Number of transactions": "1429"
                                },
                                {
                                    "Transaction_Year": "2012",
                                    "Model": "Leaf",
                                    "Number of transactions": "2525"
                                },
                                {
                                    "Transaction_Year": "2012",
                                    "Model": "Model S",
                                    "Number of transactions": "78"
                                },
                                {
                                    "Transaction_Year": "2013",
                                    "Model": "Volt",
                                    "Number of transactions": "2070"
                                },
                                {
                                    "Transaction_Year": "2013",
                                    "Model": "Model S",
                                    "Number of transactions": "2116"
                                },
                                {
                                    "Transaction_Year": "2013",
                                    "Model": "Leaf",
                                    "Number of transactions": "6472"
                                },
                                {
                                    "Transaction_Year": "2014",
                                    "Model": "Leaf",
                                    "Number of transactions": "9125"
                                },
                                {
                                    "Transaction_Year": "2014",
                                    "Model": "Model S",
                                    "Number of transactions": "2212"
                                },
                                {
                                    "Transaction_Year": "2014",
                                    "Model": "Volt",
                                    "Number of transactions": "2681"
                                },
                                {
                                    "Transaction_Year": "2015",
                                    "Model": "Leaf",
                                    "Number of transactions": "10588"
                                },
                                {
                                    "Transaction_Year": "2015",
                                    "Model": "Volt",
                                    "Number of transactions": "2934"
                                },
                                {
                                    "Transaction_Year": "2015",
                                    "Model": "Model S",
                                    "Number of transactions": "4112"
                                },
                                {
                                    "Transaction_Year": "2016",
                                    "Model": "Leaf",
                                    "Number of transactions": "12146"
                                },
                                {
                                    "Transaction_Year": "2016",
                                    "Model": "Volt",
                                    "Number of transactions": "4266"
                                },
                                {
                                    "Transaction_Year": "2016",
                                    "Model": "Model S",
                                    "Number of transactions": "4443"
                                },
                                {
                                    "Transaction_Year": "2017",
                                    "Model": "Volt",
                                    "Number of transactions": "5292"
                                },
                                {
                                    "Transaction_Year": "2017",
                                    "Model": "Model S",
                                    "Number of transactions": "6055"
                                },
                                {
                                    "Transaction_Year": "2017",
                                    "Model": "Leaf",
                                    "Number of transactions": "14667"
                                },
                                {
                                    "Transaction_Year": "2017",
                                    "Model": "Model 3",
                                    "Number of transactions": "36"
                                },
                                {
                                    "Transaction_Year": "2018",
                                    "Model": "Model S",
                                    "Number of transactions": "6494"
                                },
                                {
                                    "Transaction_Year": "2018",
                                    "Model": "Volt",
                                    "Number of transactions": "5637"
                                },
                                {
                                    "Transaction_Year": "2018",
                                    "Model": "Leaf",
                                    "Number of transactions": "14832"
                                },
                                {
                                    "Transaction_Year": "2018",
                                    "Model": "Model 3",
                                    "Number of transactions": "10196"
                                },
                                {
                                    "Transaction_Year": "2019",
                                    "Model": "Model 3",
                                    "Number of transactions": "17748"
                                },
                                {
                                    "Transaction_Year": "2019",
                                    "Model": "Model S",
                                    "Number of transactions": "7491"
                                },
                                {
                                    "Transaction_Year": "2019",
                                    "Model": "Volt",
                                    "Number of transactions": "6093"
                                },
                                {
                                    "Transaction_Year": "2019",
                                    "Model": "Leaf",
                                    "Number of transactions": "15338"
                                },
                                {
                                    "Transaction_Year": "2020",
                                    "Model": "Model Y",
                                    "Number of transactions": "5935"
                                },
                                {
                                    "Transaction_Year": "2020",
                                    "Model": "Leaf",
                                    "Number of transactions": "14343"
                                },
                                {
                                    "Transaction_Year": "2020",
                                    "Model": "Model S",
                                    "Number of transactions": "7702"
                                },
                                {
                                    "Transaction_Year": "2020",
                                    "Model": "Volt",
                                    "Number of transactions": "5801"
                                },
                                {
                                    "Transaction_Year": "2020",
                                    "Model": "Model 3",
                                    "Number of transactions": "19594"
                                },
                                {
                                    "Transaction_Year": "2021",
                                    "Model": "Volt",
                                    "Number of transactions": "6070"
                                },
                                {
                                    "Transaction_Year": "2021",
                                    "Model": "Model S",
                                    "Number of transactions": "8382"
                                },
                                {
                                    "Transaction_Year": "2021",
                                    "Model": "Leaf",
                                    "Number of transactions": "16066"
                                },
                                {
                                    "Transaction_Year": "2021",
                                    "Model": "Model Y",
                                    "Number of transactions": "17361"
                                },
                                {
                                    "Transaction_Year": "2021",
                                    "Model": "Model 3",
                                    "Number of transactions": "24845"
                                },
                                {
                                    "Transaction_Year": "2022",
                                    "Model": "Model 3",
                                    "Number of transactions": "32372"
                                },
                                {
                                    "Transaction_Year": "2022",
                                    "Model": "Model Y",
                                    "Number of transactions": "28417"
                                },
                                {
                                    "Transaction_Year": "2022",
                                    "Model": "Leaf",
                                    "Number of transactions": "16681"
                                },
                                {
                                    "Transaction_Year": "2022",
                                    "Model": "Model S",
                                    "Number of transactions": "9558"
                                },
                                {
                                    "Transaction_Year": "2022",
                                    "Model": "Volt",
                                    "Number of transactions": "5771"
                                },
                                {
                                    "Transaction_Year": "2023",
                                    "Model": "Model Y",
                                    "Number of transactions": "33241"
                                },
                                {
                                    "Transaction_Year": "2023",
                                    "Model": "Volt",
                                    "Number of transactions": "3929"
                                },
                                {
                                    "Transaction_Year": "2023",
                                    "Model": "Model 3",
                                    "Number of transactions": "25613"
                                },
                                {
                                    "Transaction_Year": "2023",
                                    "Model": "Leaf",
                                    "Number of transactions": "11537"
                                },
                                {
                                    "Transaction_Year": "2023",
                                    "Model": "Model S",
                                    "Number of transactions": "6360"
                                }
                            ]
                        },
                        "text/html": [
                            "<table>",
                            "<tr><th>Transaction_Year</th><th>Model</th><th>Number of transactions</th></tr>",
                            "<tr><td>2011</td><td>Volt</td><td>269</td></tr>",
                            "<tr><td>2011</td><td>Leaf</td><td>2086</td></tr>",
                            "<tr><td>2012</td><td>Volt</td><td>1429</td></tr>",
                            "<tr><td>2012</td><td>Leaf</td><td>2525</td></tr>",
                            "<tr><td>2012</td><td>Model S</td><td>78</td></tr>",
                            "<tr><td>2013</td><td>Volt</td><td>2070</td></tr>",
                            "<tr><td>2013</td><td>Model S</td><td>2116</td></tr>",
                            "<tr><td>2013</td><td>Leaf</td><td>6472</td></tr>",
                            "<tr><td>2014</td><td>Leaf</td><td>9125</td></tr>",
                            "<tr><td>2014</td><td>Model S</td><td>2212</td></tr>",
                            "<tr><td>2014</td><td>Volt</td><td>2681</td></tr>",
                            "<tr><td>2015</td><td>Leaf</td><td>10588</td></tr>",
                            "<tr><td>2015</td><td>Volt</td><td>2934</td></tr>",
                            "<tr><td>2015</td><td>Model S</td><td>4112</td></tr>",
                            "<tr><td>2016</td><td>Leaf</td><td>12146</td></tr>",
                            "<tr><td>2016</td><td>Volt</td><td>4266</td></tr>",
                            "<tr><td>2016</td><td>Model S</td><td>4443</td></tr>",
                            "<tr><td>2017</td><td>Volt</td><td>5292</td></tr>",
                            "<tr><td>2017</td><td>Model S</td><td>6055</td></tr>",
                            "<tr><td>2017</td><td>Leaf</td><td>14667</td></tr>",
                            "<tr><td>2017</td><td>Model 3</td><td>36</td></tr>",
                            "<tr><td>2018</td><td>Model S</td><td>6494</td></tr>",
                            "<tr><td>2018</td><td>Volt</td><td>5637</td></tr>",
                            "<tr><td>2018</td><td>Leaf</td><td>14832</td></tr>",
                            "<tr><td>2018</td><td>Model 3</td><td>10196</td></tr>",
                            "<tr><td>2019</td><td>Model 3</td><td>17748</td></tr>",
                            "<tr><td>2019</td><td>Model S</td><td>7491</td></tr>",
                            "<tr><td>2019</td><td>Volt</td><td>6093</td></tr>",
                            "<tr><td>2019</td><td>Leaf</td><td>15338</td></tr>",
                            "<tr><td>2020</td><td>Model Y</td><td>5935</td></tr>",
                            "<tr><td>2020</td><td>Leaf</td><td>14343</td></tr>",
                            "<tr><td>2020</td><td>Model S</td><td>7702</td></tr>",
                            "<tr><td>2020</td><td>Volt</td><td>5801</td></tr>",
                            "<tr><td>2020</td><td>Model 3</td><td>19594</td></tr>",
                            "<tr><td>2021</td><td>Volt</td><td>6070</td></tr>",
                            "<tr><td>2021</td><td>Model S</td><td>8382</td></tr>",
                            "<tr><td>2021</td><td>Leaf</td><td>16066</td></tr>",
                            "<tr><td>2021</td><td>Model Y</td><td>17361</td></tr>",
                            "<tr><td>2021</td><td>Model 3</td><td>24845</td></tr>",
                            "<tr><td>2022</td><td>Model 3</td><td>32372</td></tr>",
                            "<tr><td>2022</td><td>Model Y</td><td>28417</td></tr>",
                            "<tr><td>2022</td><td>Leaf</td><td>16681</td></tr>",
                            "<tr><td>2022</td><td>Model S</td><td>9558</td></tr>",
                            "<tr><td>2022</td><td>Volt</td><td>5771</td></tr>",
                            "<tr><td>2023</td><td>Model Y</td><td>33241</td></tr>",
                            "<tr><td>2023</td><td>Volt</td><td>3929</td></tr>",
                            "<tr><td>2023</td><td>Model 3</td><td>25613</td></tr>",
                            "<tr><td>2023</td><td>Leaf</td><td>11537</td></tr>",
                            "<tr><td>2023</td><td>Model S</td><td>6360</td></tr>",
                            "</table>"
                        ]
                    }
                }
            ],
            "execution_count": 20
        },
        {
            "cell_type": "markdown",
            "source": [
                ""
            ],
            "metadata": {
                "azdata_cell_guid": "3ee82057-0087-46f2-830e-e71127752dc8"
            }
        },
        {
            "cell_type": "markdown",
            "source": [
                "# **Phase 3: Electric vehicle characteristics analysis**"
            ],
            "metadata": {
                "azdata_cell_guid": "716b1684-222c-4380-905f-9fa909431bcd"
            },
            "attachments": {}
        },
        {
            "cell_type": "markdown",
            "source": [
                "## **Electric range analysis**"
            ],
            "metadata": {
                "azdata_cell_guid": "6c990d36-4408-45d7-b938-f0d42f0d2446"
            },
            "attachments": {}
        },
        {
            "cell_type": "markdown",
            "source": [
                ""
            ],
            "metadata": {
                "azdata_cell_guid": "b4496491-1162-4dd7-86b8-e65562d7ddea"
            }
        },
        {
            "cell_type": "code",
            "source": [
                "SELECT TOP 15 DOL_Vehicle_ID,Electric_Range,Electric_Vehicle_Type \r\n",
                "FROM SupportTable WHERE Electric_Range <> 0 ORDER BY 1 DESC"
            ],
            "metadata": {
                "azdata_cell_guid": "965601fd-5245-4fad-a693-247abd0cadd3",
                "language": "sql"
            },
            "outputs": [
                {
                    "output_type": "display_data",
                    "data": {
                        "text/html": "Commands completed successfully."
                    },
                    "metadata": {}
                },
                {
                    "output_type": "display_data",
                    "data": {
                        "text/html": "Total execution time: 00:00:00.059"
                    },
                    "metadata": {}
                },
                {
                    "output_type": "execute_result",
                    "metadata": {},
                    "execution_count": 21,
                    "data": {
                        "application/vnd.dataresource+json": {
                            "schema": {
                                "fields": [
                                    {
                                        "name": "DOL_Vehicle_ID"
                                    },
                                    {
                                        "name": "Electric_Range"
                                    },
                                    {
                                        "name": "Electric_Vehicle_Type"
                                    }
                                ]
                            },
                            "data": [
                                {
                                    "DOL_Vehicle_ID": "479254772",
                                    "Electric_Range": "38",
                                    "Electric_Vehicle_Type": "Plug-in Hybrid Electric Vehicle (PHEV)"
                                },
                                {
                                    "DOL_Vehicle_ID": "479114996",
                                    "Electric_Range": "220",
                                    "Electric_Vehicle_Type": "Battery Electric Vehicle (BEV)"
                                },
                                {
                                    "DOL_Vehicle_ID": "478935460",
                                    "Electric_Range": "75",
                                    "Electric_Vehicle_Type": "Battery Electric Vehicle (BEV)"
                                },
                                {
                                    "DOL_Vehicle_ID": "478934571",
                                    "Electric_Range": "289",
                                    "Electric_Vehicle_Type": "Battery Electric Vehicle (BEV)"
                                },
                                {
                                    "DOL_Vehicle_ID": "478933080",
                                    "Electric_Range": "208",
                                    "Electric_Vehicle_Type": "Battery Electric Vehicle (BEV)"
                                },
                                {
                                    "DOL_Vehicle_ID": "478926346",
                                    "Electric_Range": "25",
                                    "Electric_Vehicle_Type": "Plug-in Hybrid Electric Vehicle (PHEV)"
                                },
                                {
                                    "DOL_Vehicle_ID": "478925947",
                                    "Electric_Range": "238",
                                    "Electric_Vehicle_Type": "Battery Electric Vehicle (BEV)"
                                },
                                {
                                    "DOL_Vehicle_ID": "478925163",
                                    "Electric_Range": "220",
                                    "Electric_Vehicle_Type": "Battery Electric Vehicle (BEV)"
                                },
                                {
                                    "DOL_Vehicle_ID": "478924358",
                                    "Electric_Range": "76",
                                    "Electric_Vehicle_Type": "Battery Electric Vehicle (BEV)"
                                },
                                {
                                    "DOL_Vehicle_ID": "478916028",
                                    "Electric_Range": "220",
                                    "Electric_Vehicle_Type": "Battery Electric Vehicle (BEV)"
                                },
                                {
                                    "DOL_Vehicle_ID": "478910428",
                                    "Electric_Range": "220",
                                    "Electric_Vehicle_Type": "Battery Electric Vehicle (BEV)"
                                },
                                {
                                    "DOL_Vehicle_ID": "478909938",
                                    "Electric_Range": "29",
                                    "Electric_Vehicle_Type": "Plug-in Hybrid Electric Vehicle (PHEV)"
                                },
                                {
                                    "DOL_Vehicle_ID": "478909770",
                                    "Electric_Range": "238",
                                    "Electric_Vehicle_Type": "Battery Electric Vehicle (BEV)"
                                },
                                {
                                    "DOL_Vehicle_ID": "478909224",
                                    "Electric_Range": "125",
                                    "Electric_Vehicle_Type": "Battery Electric Vehicle (BEV)"
                                },
                                {
                                    "DOL_Vehicle_ID": "478909070",
                                    "Electric_Range": "28",
                                    "Electric_Vehicle_Type": "Plug-in Hybrid Electric Vehicle (PHEV)"
                                }
                            ]
                        },
                        "text/html": [
                            "<table>",
                            "<tr><th>DOL_Vehicle_ID</th><th>Electric_Range</th><th>Electric_Vehicle_Type</th></tr>",
                            "<tr><td>479254772</td><td>38</td><td>Plug-in Hybrid Electric Vehicle (PHEV)</td></tr>",
                            "<tr><td>479114996</td><td>220</td><td>Battery Electric Vehicle (BEV)</td></tr>",
                            "<tr><td>478935460</td><td>75</td><td>Battery Electric Vehicle (BEV)</td></tr>",
                            "<tr><td>478934571</td><td>289</td><td>Battery Electric Vehicle (BEV)</td></tr>",
                            "<tr><td>478933080</td><td>208</td><td>Battery Electric Vehicle (BEV)</td></tr>",
                            "<tr><td>478926346</td><td>25</td><td>Plug-in Hybrid Electric Vehicle (PHEV)</td></tr>",
                            "<tr><td>478925947</td><td>238</td><td>Battery Electric Vehicle (BEV)</td></tr>",
                            "<tr><td>478925163</td><td>220</td><td>Battery Electric Vehicle (BEV)</td></tr>",
                            "<tr><td>478924358</td><td>76</td><td>Battery Electric Vehicle (BEV)</td></tr>",
                            "<tr><td>478916028</td><td>220</td><td>Battery Electric Vehicle (BEV)</td></tr>",
                            "<tr><td>478910428</td><td>220</td><td>Battery Electric Vehicle (BEV)</td></tr>",
                            "<tr><td>478909938</td><td>29</td><td>Plug-in Hybrid Electric Vehicle (PHEV)</td></tr>",
                            "<tr><td>478909770</td><td>238</td><td>Battery Electric Vehicle (BEV)</td></tr>",
                            "<tr><td>478909224</td><td>125</td><td>Battery Electric Vehicle (BEV)</td></tr>",
                            "<tr><td>478909070</td><td>28</td><td>Plug-in Hybrid Electric Vehicle (PHEV)</td></tr>",
                            "</table>"
                        ]
                    }
                }
            ],
            "execution_count": 21
        },
        {
            "cell_type": "markdown",
            "source": [
                ""
            ],
            "metadata": {
                "language": "sql",
                "azdata_cell_guid": "7cce22a4-2fe1-4af0-9808-ea8953f05909"
            }
        },
        {
            "cell_type": "code",
            "source": [
                "UPDATE SupportTable\r\n",
                "SET [Electric range group] =\r\n",
                "CASE\r\n",
                "\r\n",
                "WHEN Electric_Range = 0    THEN 'not-reported'\r\n",
                "WHEN Electric_Range <= 50  THEN ' 0-50'\r\n",
                "WHEN Electric_Range <= 100 THEN ' 50-100'\r\n",
                "WHEN Electric_Range <= 150 THEN '100-150'\r\n",
                "WHEN Electric_Range <= 200 THEN '150-200'\r\n",
                "WHEN Electric_Range <= 250 THEN '200-250'\r\n",
                "WHEN Electric_Range <= 300 THEN '250-300'\r\n",
                "WHEN Electric_Range <= 350 THEN '300-350'\r\n",
                "\r\n",
                "END"
            ],
            "metadata": {
                "language": "sql",
                "azdata_cell_guid": "11b1dc17-6da9-44b4-9509-28394bb3baa0"
            },
            "outputs": [
                {
                    "output_type": "display_data",
                    "data": {
                        "text/html": "Commands completed successfully."
                    },
                    "metadata": {}
                },
                {
                    "output_type": "display_data",
                    "data": {
                        "text/html": "Total execution time: 00:00:01.334"
                    },
                    "metadata": {}
                }
            ],
            "execution_count": 22
        },
        {
            "cell_type": "markdown",
            "source": [
                ""
            ],
            "metadata": {
                "language": "sql",
                "azdata_cell_guid": "3e469aeb-47c2-4285-9074-c793a4102556"
            }
        },
        {
            "cell_type": "code",
            "source": [
                "SELECT [Electric range group],COUNT(DOL_Vehicle_ID) AS 'Count of vehicles' FROM SupportTable\r\n",
                "GROUP BY [Electric range group] ORDER BY 1 ASC"
            ],
            "metadata": {
                "language": "sql",
                "azdata_cell_guid": "707e8f18-a9e9-45b2-b612-4e5488268b9a"
            },
            "outputs": [
                {
                    "output_type": "display_data",
                    "data": {
                        "text/html": "Commands completed successfully."
                    },
                    "metadata": {}
                },
                {
                    "output_type": "display_data",
                    "data": {
                        "text/html": "Total execution time: 00:00:00.214"
                    },
                    "metadata": {}
                },
                {
                    "output_type": "execute_result",
                    "metadata": {},
                    "execution_count": 23,
                    "data": {
                        "application/vnd.dataresource+json": {
                            "schema": {
                                "fields": [
                                    {
                                        "name": "Electric range group"
                                    },
                                    {
                                        "name": "Count of vehicles"
                                    }
                                ]
                            },
                            "data": [
                                {
                                    "Electric range group": " 0-50",
                                    "Count of vehicles": "37206"
                                },
                                {
                                    "Electric range group": " 50-100",
                                    "Count of vehicles": "23820"
                                },
                                {
                                    "Electric range group": "100-150",
                                    "Count of vehicles": "5169"
                                },
                                {
                                    "Electric range group": "150-200",
                                    "Count of vehicles": "3751"
                                },
                                {
                                    "Electric range group": "200-250",
                                    "Count of vehicles": "28443"
                                },
                                {
                                    "Electric range group": "250-300",
                                    "Count of vehicles": "8076"
                                },
                                {
                                    "Electric range group": "300-350",
                                    "Count of vehicles": "3218"
                                },
                                {
                                    "Electric range group": "not-reported",
                                    "Count of vehicles": "74210"
                                }
                            ]
                        },
                        "text/html": [
                            "<table>",
                            "<tr><th>Electric range group</th><th>Count of vehicles</th></tr>",
                            "<tr><td> 0-50</td><td>37206</td></tr>",
                            "<tr><td> 50-100</td><td>23820</td></tr>",
                            "<tr><td>100-150</td><td>5169</td></tr>",
                            "<tr><td>150-200</td><td>3751</td></tr>",
                            "<tr><td>200-250</td><td>28443</td></tr>",
                            "<tr><td>250-300</td><td>8076</td></tr>",
                            "<tr><td>300-350</td><td>3218</td></tr>",
                            "<tr><td>not-reported</td><td>74210</td></tr>",
                            "</table>"
                        ]
                    }
                }
            ],
            "execution_count": 23
        },
        {
            "cell_type": "markdown",
            "source": [
                ""
            ],
            "metadata": {
                "language": "sql",
                "azdata_cell_guid": "482153ab-c48f-4fbb-9774-fff9c55fc0e9"
            }
        },
        {
            "cell_type": "markdown",
            "source": [
                "## **Manufacturer analysis**"
            ],
            "metadata": {
                "language": "sql",
                "azdata_cell_guid": "83fbb291-ce99-43a5-84d7-ead1c538468e"
            },
            "attachments": {}
        },
        {
            "cell_type": "markdown",
            "source": [
                ""
            ],
            "metadata": {
                "language": "sql",
                "azdata_cell_guid": "1f82e4f4-eea9-4890-8d58-b1ab4a64d4bb"
            }
        },
        {
            "cell_type": "code",
            "source": [
                "SELECT Make,COUNT(DOL_Vehicle_ID) AS 'Count of vehicles' FROM SupportTable\r\n",
                "GROUP BY Make ORDER BY 2 DESC"
            ],
            "metadata": {
                "language": "sql",
                "azdata_cell_guid": "a6a5bbcc-7beb-41ae-8fb0-ab32dc0b3142"
            },
            "outputs": [
                {
                    "output_type": "display_data",
                    "data": {
                        "text/html": "Commands completed successfully."
                    },
                    "metadata": {}
                },
                {
                    "output_type": "display_data",
                    "data": {
                        "text/html": "Total execution time: 00:00:00.115"
                    },
                    "metadata": {}
                },
                {
                    "output_type": "execute_result",
                    "metadata": {},
                    "execution_count": 24,
                    "data": {
                        "application/vnd.dataresource+json": {
                            "schema": {
                                "fields": [
                                    {
                                        "name": "Make"
                                    },
                                    {
                                        "name": "Count of vehicles"
                                    }
                                ]
                            },
                            "data": [
                                {
                                    "Make": "TESLA",
                                    "Count of vehicles": "79982"
                                },
                                {
                                    "Make": "NISSAN",
                                    "Count of vehicles": "21626"
                                },
                                {
                                    "Make": "CHEVROLET",
                                    "Count of vehicles": "15918"
                                },
                                {
                                    "Make": "FORD",
                                    "Count of vehicles": "9990"
                                },
                                {
                                    "Make": "BMW",
                                    "Count of vehicles": "8370"
                                },
                                {
                                    "Make": "KIA",
                                    "Count of vehicles": "7259"
                                },
                                {
                                    "Make": "TOYOTA",
                                    "Count of vehicles": "6284"
                                },
                                {
                                    "Make": "VOLKSWAGEN",
                                    "Count of vehicles": "4549"
                                },
                                {
                                    "Make": "VOLVO",
                                    "Count of vehicles": "3956"
                                },
                                {
                                    "Make": "JEEP",
                                    "Count of vehicles": "3542"
                                },
                                {
                                    "Make": "AUDI",
                                    "Count of vehicles": "3462"
                                },
                                {
                                    "Make": "HYUNDAI",
                                    "Count of vehicles": "3406"
                                },
                                {
                                    "Make": "CHRYSLER",
                                    "Count of vehicles": "3058"
                                },
                                {
                                    "Make": "RIVIAN",
                                    "Count of vehicles": "2559"
                                },
                                {
                                    "Make": "PORSCHE",
                                    "Count of vehicles": "1250"
                                },
                                {
                                    "Make": "MERCEDES-BENZ",
                                    "Count of vehicles": "1230"
                                },
                                {
                                    "Make": "FIAT",
                                    "Count of vehicles": "1118"
                                },
                                {
                                    "Make": "MITSUBISHI",
                                    "Count of vehicles": "1023"
                                },
                                {
                                    "Make": "HONDA",
                                    "Count of vehicles": "999"
                                },
                                {
                                    "Make": "MINI",
                                    "Count of vehicles": "883"
                                },
                                {
                                    "Make": "POLESTAR",
                                    "Count of vehicles": "833"
                                },
                                {
                                    "Make": "SUBARU",
                                    "Count of vehicles": "632"
                                },
                                {
                                    "Make": "SMART",
                                    "Count of vehicles": "458"
                                },
                                {
                                    "Make": "JAGUAR",
                                    "Count of vehicles": "274"
                                },
                                {
                                    "Make": "LINCOLN",
                                    "Count of vehicles": "248"
                                },
                                {
                                    "Make": "CADILLAC",
                                    "Count of vehicles": "245"
                                },
                                {
                                    "Make": "LUCID",
                                    "Count of vehicles": "196"
                                },
                                {
                                    "Make": "LEXUS",
                                    "Count of vehicles": "140"
                                },
                                {
                                    "Make": "MAZDA",
                                    "Count of vehicles": "136"
                                },
                                {
                                    "Make": "GENESIS",
                                    "Count of vehicles": "104"
                                },
                                {
                                    "Make": "FISKER",
                                    "Count of vehicles": "57"
                                },
                                {
                                    "Make": "LAND ROVER",
                                    "Count of vehicles": "55"
                                },
                                {
                                    "Make": "ALFA ROMEO",
                                    "Count of vehicles": "12"
                                },
                                {
                                    "Make": "AZURE DYNAMICS",
                                    "Count of vehicles": "11"
                                },
                                {
                                    "Make": "TH!NK",
                                    "Count of vehicles": "10"
                                },
                                {
                                    "Make": "WHEEGO ELECTRIC CARS",
                                    "Count of vehicles": "9"
                                },
                                {
                                    "Make": "BUBBLE BUDDY",
                                    "Count of vehicles": "3"
                                },
                                {
                                    "Make": "BENTLEY",
                                    "Count of vehicles": "3"
                                },
                                {
                                    "Make": "DODGE",
                                    "Count of vehicles": "2"
                                },
                                {
                                    "Make": "PLYMOUTH",
                                    "Count of vehicles": "1"
                                }
                            ]
                        },
                        "text/html": [
                            "<table>",
                            "<tr><th>Make</th><th>Count of vehicles</th></tr>",
                            "<tr><td>TESLA</td><td>79982</td></tr>",
                            "<tr><td>NISSAN</td><td>21626</td></tr>",
                            "<tr><td>CHEVROLET</td><td>15918</td></tr>",
                            "<tr><td>FORD</td><td>9990</td></tr>",
                            "<tr><td>BMW</td><td>8370</td></tr>",
                            "<tr><td>KIA</td><td>7259</td></tr>",
                            "<tr><td>TOYOTA</td><td>6284</td></tr>",
                            "<tr><td>VOLKSWAGEN</td><td>4549</td></tr>",
                            "<tr><td>VOLVO</td><td>3956</td></tr>",
                            "<tr><td>JEEP</td><td>3542</td></tr>",
                            "<tr><td>AUDI</td><td>3462</td></tr>",
                            "<tr><td>HYUNDAI</td><td>3406</td></tr>",
                            "<tr><td>CHRYSLER</td><td>3058</td></tr>",
                            "<tr><td>RIVIAN</td><td>2559</td></tr>",
                            "<tr><td>PORSCHE</td><td>1250</td></tr>",
                            "<tr><td>MERCEDES-BENZ</td><td>1230</td></tr>",
                            "<tr><td>FIAT</td><td>1118</td></tr>",
                            "<tr><td>MITSUBISHI</td><td>1023</td></tr>",
                            "<tr><td>HONDA</td><td>999</td></tr>",
                            "<tr><td>MINI</td><td>883</td></tr>",
                            "<tr><td>POLESTAR</td><td>833</td></tr>",
                            "<tr><td>SUBARU</td><td>632</td></tr>",
                            "<tr><td>SMART</td><td>458</td></tr>",
                            "<tr><td>JAGUAR</td><td>274</td></tr>",
                            "<tr><td>LINCOLN</td><td>248</td></tr>",
                            "<tr><td>CADILLAC</td><td>245</td></tr>",
                            "<tr><td>LUCID</td><td>196</td></tr>",
                            "<tr><td>LEXUS</td><td>140</td></tr>",
                            "<tr><td>MAZDA</td><td>136</td></tr>",
                            "<tr><td>GENESIS</td><td>104</td></tr>",
                            "<tr><td>FISKER</td><td>57</td></tr>",
                            "<tr><td>LAND ROVER</td><td>55</td></tr>",
                            "<tr><td>ALFA ROMEO</td><td>12</td></tr>",
                            "<tr><td>AZURE DYNAMICS</td><td>11</td></tr>",
                            "<tr><td>TH!NK</td><td>10</td></tr>",
                            "<tr><td>WHEEGO ELECTRIC CARS</td><td>9</td></tr>",
                            "<tr><td>BUBBLE BUDDY</td><td>3</td></tr>",
                            "<tr><td>BENTLEY</td><td>3</td></tr>",
                            "<tr><td>DODGE</td><td>2</td></tr>",
                            "<tr><td>PLYMOUTH</td><td>1</td></tr>",
                            "</table>"
                        ]
                    }
                }
            ],
            "execution_count": 24
        },
        {
            "cell_type": "markdown",
            "source": [
                ""
            ],
            "metadata": {
                "language": "sql",
                "azdata_cell_guid": "f52c7717-67b7-4833-be2b-db2de14fb3ae"
            }
        },
        {
            "cell_type": "markdown",
            "source": [
                "## **Vehicle eligibility for alternative fuel status analysis**"
            ],
            "metadata": {
                "language": "sql",
                "azdata_cell_guid": "23658691-a0f0-416c-b579-46c254275d5a"
            },
            "attachments": {}
        },
        {
            "cell_type": "markdown",
            "source": [
                ""
            ],
            "metadata": {
                "language": "sql",
                "azdata_cell_guid": "c89494ae-5034-4f1e-9181-37535998c872"
            }
        },
        {
            "cell_type": "code",
            "source": [
                "SELECT [Alternative Fuel Eligibility],COUNT(DOL_Vehicle_ID) AS 'Count of vehicles' FROM SupportTable\r\n",
                "GROUP BY [Alternative Fuel Eligibility] ORDER BY 2 DESC"
            ],
            "metadata": {
                "language": "sql",
                "azdata_cell_guid": "9fe95ff0-86e4-42ed-bbb9-0f9e8e450152"
            },
            "outputs": [
                {
                    "output_type": "display_data",
                    "data": {
                        "text/html": "Commands completed successfully."
                    },
                    "metadata": {}
                },
                {
                    "output_type": "display_data",
                    "data": {
                        "text/html": "Total execution time: 00:00:00.082"
                    },
                    "metadata": {}
                },
                {
                    "output_type": "execute_result",
                    "metadata": {},
                    "execution_count": 25,
                    "data": {
                        "application/vnd.dataresource+json": {
                            "schema": {
                                "fields": [
                                    {
                                        "name": "Alternative Fuel Eligibility"
                                    },
                                    {
                                        "name": "Count of vehicles"
                                    }
                                ]
                            },
                            "data": [
                                {
                                    "Alternative Fuel Eligibility": "Clean Alternative Fuel Vehicle Eligible",
                                    "Count of vehicles": "87010"
                                },
                                {
                                    "Alternative Fuel Eligibility": "Unknown",
                                    "Count of vehicles": "74210"
                                },
                                {
                                    "Alternative Fuel Eligibility": "Not eligible due to low battery range",
                                    "Count of vehicles": "22673"
                                }
                            ]
                        },
                        "text/html": [
                            "<table>",
                            "<tr><th>Alternative Fuel Eligibility</th><th>Count of vehicles</th></tr>",
                            "<tr><td>Clean Alternative Fuel Vehicle Eligible</td><td>87010</td></tr>",
                            "<tr><td>Unknown</td><td>74210</td></tr>",
                            "<tr><td>Not eligible due to low battery range</td><td>22673</td></tr>",
                            "</table>"
                        ]
                    }
                }
            ],
            "execution_count": 25
        },
        {
            "cell_type": "markdown",
            "source": [
                ""
            ],
            "metadata": {
                "language": "sql",
                "azdata_cell_guid": "18a33ddd-13df-4c37-ae1f-2b8876695830"
            }
        },
        {
            "cell_type": "markdown",
            "source": [
                "# **Phase 4: Electric vehicle transactions analysis**"
            ],
            "metadata": {
                "language": "sql",
                "azdata_cell_guid": "48d61e73-1257-4238-bd35-073574949ab0"
            },
            "attachments": {}
        },
        {
            "cell_type": "code",
            "source": [
                "SELECT DISTINCT(Transaction_Type),COUNT(*) AS 'Number of transactions' FROM PortfolioProjects.Dbo.Electric_Vehicle_Registrations\r\n",
                "GROUP BY Transaction_Type ORDER BY 2 DESC"
            ],
            "metadata": {
                "language": "sql",
                "azdata_cell_guid": "9f09911e-23d2-46fe-9574-3a6b332861d2"
            },
            "outputs": [
                {
                    "output_type": "display_data",
                    "data": {
                        "text/html": "Commands completed successfully."
                    },
                    "metadata": {}
                },
                {
                    "output_type": "display_data",
                    "data": {
                        "text/html": "Total execution time: 00:00:00.083"
                    },
                    "metadata": {}
                },
                {
                    "output_type": "execute_result",
                    "metadata": {},
                    "execution_count": 26,
                    "data": {
                        "application/vnd.dataresource+json": {
                            "schema": {
                                "fields": [
                                    {
                                        "name": "Transaction_Type"
                                    },
                                    {
                                        "name": "Number of transactions"
                                    }
                                ]
                            },
                            "data": [
                                {
                                    "Transaction_Type": "Registration Renewal",
                                    "Number of transactions": "368326"
                                },
                                {
                                    "Transaction_Type": "Original Registration",
                                    "Number of transactions": "181745"
                                },
                                {
                                    "Transaction_Type": "Original Title",
                                    "Number of transactions": "179601"
                                },
                                {
                                    "Transaction_Type": "Transfer Title",
                                    "Number of transactions": "40578"
                                },
                                {
                                    "Transaction_Type": "Registration at time of Transfer",
                                    "Number of transactions": "38341"
                                }
                            ]
                        },
                        "text/html": [
                            "<table>",
                            "<tr><th>Transaction_Type</th><th>Number of transactions</th></tr>",
                            "<tr><td>Registration Renewal</td><td>368326</td></tr>",
                            "<tr><td>Original Registration</td><td>181745</td></tr>",
                            "<tr><td>Original Title</td><td>179601</td></tr>",
                            "<tr><td>Transfer Title</td><td>40578</td></tr>",
                            "<tr><td>Registration at time of Transfer</td><td>38341</td></tr>",
                            "</table>"
                        ]
                    }
                }
            ],
            "execution_count": 26
        },
        {
            "cell_type": "markdown",
            "source": [
                ""
            ],
            "metadata": {
                "language": "sql",
                "azdata_cell_guid": "1fa7a314-97b9-48d6-8589-9b5d6e14bfdb"
            }
        },
        {
            "cell_type": "markdown",
            "source": [
                "# **Phase 5: Geographic analysis**"
            ],
            "metadata": {
                "language": "sql",
                "azdata_cell_guid": "8168e58f-1c06-4b18-bb22-243351d1e489"
            },
            "attachments": {}
        },
        {
            "cell_type": "markdown",
            "source": [
                "## **Number of declared cities,Counties,States**"
            ],
            "metadata": {
                "language": "sql",
                "azdata_cell_guid": "8e6ff7ac-4979-4046-ab0f-0c9d72936984"
            },
            "attachments": {}
        },
        {
            "cell_type": "markdown",
            "source": [
                ""
            ],
            "metadata": {
                "language": "sql",
                "azdata_cell_guid": "81d44310-4199-44c1-8e43-9b90e893afe3"
            }
        },
        {
            "cell_type": "code",
            "source": [
                "SELECT COUNT(DISTINCT(City)) AS 'N° of cities',COUNT(DISTINCT(County)) AS 'N° of counties',COUNT(DISTINCT(State)) AS 'N° of states'\r\n",
                "FROM PortfolioProjects.Dbo.Electric_Vehicle_Registrations\r\n",
                "WHERE State NOT IN ('QC','BC','AP','AE','AB','ON','XX')"
            ],
            "metadata": {
                "language": "sql",
                "azdata_cell_guid": "b48d922f-c491-4f92-9acd-0cc84b126d37",
                "tags": []
            },
            "outputs": [
                {
                    "output_type": "display_data",
                    "data": {
                        "text/html": "Warning: Null value is eliminated by an aggregate or other SET operation."
                    },
                    "metadata": {}
                },
                {
                    "output_type": "display_data",
                    "data": {
                        "text/html": "Total execution time: 00:00:00.291"
                    },
                    "metadata": {}
                },
                {
                    "output_type": "execute_result",
                    "metadata": {},
                    "execution_count": 27,
                    "data": {
                        "application/vnd.dataresource+json": {
                            "schema": {
                                "fields": [
                                    {
                                        "name": "N° of cities"
                                    },
                                    {
                                        "name": "N° of counties"
                                    },
                                    {
                                        "name": "N° of states"
                                    }
                                ]
                            },
                            "data": [
                                {
                                    "N° of cities": "1098",
                                    "N° of counties": "324",
                                    "N° of states": "49"
                                }
                            ]
                        },
                        "text/html": [
                            "<table>",
                            "<tr><th>N° of cities</th><th>N° of counties</th><th>N° of states</th></tr>",
                            "<tr><td>1098</td><td>324</td><td>49</td></tr>",
                            "</table>"
                        ]
                    }
                }
            ],
            "execution_count": 27
        },
        {
            "cell_type": "markdown",
            "source": [
                ""
            ],
            "metadata": {
                "language": "sql",
                "azdata_cell_guid": "44c6841c-1926-46f4-9ad0-aba09459a999"
            }
        },
        {
            "cell_type": "markdown",
            "source": [
                "## **Geographical distribution**"
            ],
            "metadata": {
                "language": "sql",
                "azdata_cell_guid": "3cfb6ddc-03b9-4d48-a377-55f549bcfa9f"
            },
            "attachments": {}
        },
        {
            "cell_type": "markdown",
            "source": [
                ""
            ],
            "metadata": {
                "language": "sql",
                "azdata_cell_guid": "6cd73eb2-1ea1-4479-b8f3-197e9028fea0"
            }
        },
        {
            "cell_type": "code",
            "source": [
                "SELECT TOP 15 City,County,State,COUNT(*) as 'Number of transactions' FROM PortfolioProjects.dbo.Electric_Vehicle_Registrations\r\n",
                "GROUP BY City,County,State\r\n",
                "HAVING State NOT IN ('QC','BC','AP','AE','AB','ON','XX')\r\n",
                "ORDER BY 4 DESC"
            ],
            "metadata": {
                "language": "sql",
                "azdata_cell_guid": "fa1d1cdc-4222-4f11-bcc6-6d2cfadfcff5"
            },
            "outputs": [
                {
                    "output_type": "display_data",
                    "data": {
                        "text/html": "Commands completed successfully."
                    },
                    "metadata": {}
                },
                {
                    "output_type": "display_data",
                    "data": {
                        "text/html": "Total execution time: 00:00:00.162"
                    },
                    "metadata": {}
                },
                {
                    "output_type": "execute_result",
                    "metadata": {},
                    "execution_count": 28,
                    "data": {
                        "application/vnd.dataresource+json": {
                            "schema": {
                                "fields": [
                                    {
                                        "name": "City"
                                    },
                                    {
                                        "name": "County"
                                    },
                                    {
                                        "name": "State"
                                    },
                                    {
                                        "name": "Number of transactions"
                                    }
                                ]
                            },
                            "data": [
                                {
                                    "City": "SEATTLE",
                                    "County": "King",
                                    "State": "WA",
                                    "Number of transactions": "145339"
                                },
                                {
                                    "City": "BELLEVUE",
                                    "County": "King",
                                    "State": "WA",
                                    "Number of transactions": "44538"
                                },
                                {
                                    "City": "REDMOND",
                                    "County": "King",
                                    "State": "WA",
                                    "Number of transactions": "33085"
                                },
                                {
                                    "City": "VANCOUVER",
                                    "County": "Clark",
                                    "State": "WA",
                                    "Number of transactions": "27612"
                                },
                                {
                                    "City": "KIRKLAND",
                                    "County": "King",
                                    "State": "WA",
                                    "Number of transactions": "25931"
                                },
                                {
                                    "City": "SAMMAMISH",
                                    "County": "King",
                                    "State": "WA",
                                    "Number of transactions": "25237"
                                },
                                {
                                    "City": "RENTON",
                                    "County": "King",
                                    "State": "WA",
                                    "Number of transactions": "20288"
                                },
                                {
                                    "City": "BOTHELL",
                                    "County": "Snohomish",
                                    "State": "WA",
                                    "Number of transactions": "18985"
                                },
                                {
                                    "City": "OLYMPIA",
                                    "County": "Thurston",
                                    "State": "WA",
                                    "Number of transactions": "18105"
                                },
                                {
                                    "City": "TACOMA",
                                    "County": "Pierce",
                                    "State": "WA",
                                    "Number of transactions": "17138"
                                },
                                {
                                    "City": "BELLINGHAM",
                                    "County": "Whatcom",
                                    "State": "WA",
                                    "Number of transactions": "14010"
                                },
                                {
                                    "City": "ISSAQUAH",
                                    "County": "King",
                                    "State": "WA",
                                    "Number of transactions": "13378"
                                },
                                {
                                    "City": "MERCER ISLAND",
                                    "County": "King",
                                    "State": "WA",
                                    "Number of transactions": "12331"
                                },
                                {
                                    "City": "WOODINVILLE",
                                    "County": "King",
                                    "State": "WA",
                                    "Number of transactions": "11392"
                                },
                                {
                                    "City": "EVERETT",
                                    "County": "Snohomish",
                                    "State": "WA",
                                    "Number of transactions": "11380"
                                }
                            ]
                        },
                        "text/html": [
                            "<table>",
                            "<tr><th>City</th><th>County</th><th>State</th><th>Number of transactions</th></tr>",
                            "<tr><td>SEATTLE</td><td>King</td><td>WA</td><td>145339</td></tr>",
                            "<tr><td>BELLEVUE</td><td>King</td><td>WA</td><td>44538</td></tr>",
                            "<tr><td>REDMOND</td><td>King</td><td>WA</td><td>33085</td></tr>",
                            "<tr><td>VANCOUVER</td><td>Clark</td><td>WA</td><td>27612</td></tr>",
                            "<tr><td>KIRKLAND</td><td>King</td><td>WA</td><td>25931</td></tr>",
                            "<tr><td>SAMMAMISH</td><td>King</td><td>WA</td><td>25237</td></tr>",
                            "<tr><td>RENTON</td><td>King</td><td>WA</td><td>20288</td></tr>",
                            "<tr><td>BOTHELL</td><td>Snohomish</td><td>WA</td><td>18985</td></tr>",
                            "<tr><td>OLYMPIA</td><td>Thurston</td><td>WA</td><td>18105</td></tr>",
                            "<tr><td>TACOMA</td><td>Pierce</td><td>WA</td><td>17138</td></tr>",
                            "<tr><td>BELLINGHAM</td><td>Whatcom</td><td>WA</td><td>14010</td></tr>",
                            "<tr><td>ISSAQUAH</td><td>King</td><td>WA</td><td>13378</td></tr>",
                            "<tr><td>MERCER ISLAND</td><td>King</td><td>WA</td><td>12331</td></tr>",
                            "<tr><td>WOODINVILLE</td><td>King</td><td>WA</td><td>11392</td></tr>",
                            "<tr><td>EVERETT</td><td>Snohomish</td><td>WA</td><td>11380</td></tr>",
                            "</table>"
                        ]
                    }
                }
            ],
            "execution_count": 28
        },
        {
            "cell_type": "markdown",
            "source": [
                ""
            ],
            "metadata": {
                "language": "sql",
                "azdata_cell_guid": "81739c2d-19c2-47fc-a68c-50339552a3a6"
            }
        },
        {
            "cell_type": "markdown",
            "source": [
                "# **Phase 6: Preparing data for visualizations**"
            ],
            "metadata": {
                "language": "sql",
                "azdata_cell_guid": "af2454d3-9319-4799-9fed-8c2a513f30f5"
            },
            "attachments": {}
        },
        {
            "cell_type": "markdown",
            "source": [
                ""
            ],
            "metadata": {
                "language": "sql",
                "azdata_cell_guid": "c7a981f0-b8f7-47e3-9aef-2179979e42f4"
            }
        },
        {
            "cell_type": "markdown",
            "source": [
                "## \n",
                "\n",
                "- **View 1:**"
            ],
            "metadata": {
                "language": "sql",
                "azdata_cell_guid": "617fa608-cfa4-4180-96dd-4cc3d54cad03"
            },
            "attachments": {}
        },
        {
            "cell_type": "code",
            "source": [
                "DROP VIEW IF  EXISTS Geographical_distribution\r\n",
                "GO\r\n",
                "\r\n",
                "CREATE VIEW Geographical_distribution AS\r\n",
                "\r\n",
                "SELECT City,County,State,COUNT(*) as 'Number of transactions' FROM PortfolioProjects.dbo.Electric_Vehicle_Registrations\r\n",
                "GROUP BY City,County,State\r\n",
                "HAVING State NOT IN ('QC','BC','AP','AE','AB','ON','XX')"
            ],
            "metadata": {
                "language": "sql",
                "azdata_cell_guid": "73de791e-c2fe-4e9e-8fb6-69dcac4385df"
            },
            "outputs": [
                {
                    "output_type": "display_data",
                    "data": {
                        "text/html": "Commands completed successfully."
                    },
                    "metadata": {}
                },
                {
                    "output_type": "display_data",
                    "data": {
                        "text/html": "Commands completed successfully."
                    },
                    "metadata": {}
                },
                {
                    "output_type": "display_data",
                    "data": {
                        "text/html": "Total execution time: 00:00:00.042"
                    },
                    "metadata": {}
                }
            ],
            "execution_count": 29
        },
        {
            "cell_type": "markdown",
            "source": [
                ""
            ],
            "metadata": {
                "language": "sql",
                "azdata_cell_guid": "605f0a03-fed6-4887-9f27-ad49715a781a"
            }
        },
        {
            "cell_type": "markdown",
            "source": [
                "## \n",
                "\n",
                "- **View 2:**"
            ],
            "metadata": {
                "language": "sql",
                "azdata_cell_guid": "bcc7288a-cfc1-43d7-b54c-beb86d80b59e"
            },
            "attachments": {}
        },
        {
            "cell_type": "code",
            "source": [
                "DROP VIEW IF EXISTS Car_brand_popularity\r\n",
                "GO\r\n",
                "\r\n",
                "CREATE VIEW Car_brand_popularity AS\r\n",
                "\r\n",
                "SELECT TOP 8 Make,COUNT(DOL_Vehicle_ID) AS 'Count of vehicles' FROM PortfolioProjects.dbo.SupportTable\r\n",
                "GROUP BY Make ORDER BY 2 DESC"
            ],
            "metadata": {
                "language": "sql",
                "azdata_cell_guid": "20953bac-0903-4fed-be26-047a413d4c93"
            },
            "outputs": [
                {
                    "output_type": "display_data",
                    "data": {
                        "text/html": "Commands completed successfully."
                    },
                    "metadata": {}
                },
                {
                    "output_type": "display_data",
                    "data": {
                        "text/html": "Commands completed successfully."
                    },
                    "metadata": {}
                },
                {
                    "output_type": "display_data",
                    "data": {
                        "text/html": "Total execution time: 00:00:00.005"
                    },
                    "metadata": {}
                }
            ],
            "execution_count": 30
        },
        {
            "cell_type": "markdown",
            "source": [
                ""
            ],
            "metadata": {
                "language": "sql",
                "azdata_cell_guid": "89c59845-7180-4679-a8f6-310cd92abe96"
            }
        },
        {
            "cell_type": "markdown",
            "source": [
                "## \n",
                "\n",
                "- **View 3:**"
            ],
            "metadata": {
                "language": "sql",
                "azdata_cell_guid": "c235af51-7988-446f-bbd3-42f258c64d77"
            },
            "attachments": {}
        },
        {
            "cell_type": "code",
            "source": [
                "DROP VIEW IF EXISTS Top_electric_models\r\n",
                "GO\r\n",
                "\r\n",
                "CREATE VIEW Top_electric_models AS\r\n",
                "\r\n",
                "SELECT Transaction_Year,Model,COUNT(*) AS 'Number of transactions' FROM PortfolioProjects.Dbo.Electric_Vehicle_Registrations\r\n",
                "GROUP BY Transaction_Year,Model\r\n",
                "HAVING Model in (SELECT TOP 6 Model FROM PortfolioProjects.dbo.Electric_Vehicle_Registrations GROUP BY Model ORDER BY COUNT(*) DESC)"
            ],
            "metadata": {
                "language": "sql",
                "azdata_cell_guid": "161360dc-406c-43d2-91d6-48b59476a330"
            },
            "outputs": [
                {
                    "output_type": "display_data",
                    "data": {
                        "text/html": "Commands completed successfully."
                    },
                    "metadata": {}
                },
                {
                    "output_type": "display_data",
                    "data": {
                        "text/html": "Commands completed successfully."
                    },
                    "metadata": {}
                },
                {
                    "output_type": "display_data",
                    "data": {
                        "text/html": "Total execution time: 00:00:00.002"
                    },
                    "metadata": {}
                }
            ],
            "execution_count": 31
        },
        {
            "cell_type": "markdown",
            "source": [
                ""
            ],
            "metadata": {
                "language": "sql",
                "azdata_cell_guid": "eb1a3a83-199c-4cda-ac79-660f40c7a544"
            }
        },
        {
            "cell_type": "markdown",
            "source": [
                "## \n",
                "\n",
                "- **View 4:**"
            ],
            "metadata": {
                "language": "sql",
                "azdata_cell_guid": "6284a4f7-b601-4d46-be4b-0cc3a9ca021d"
            },
            "attachments": {}
        },
        {
            "cell_type": "code",
            "source": [
                "DROP VIEW IF EXISTS Electric_vehicle_transactions_over_Time\r\n",
                "GO\r\n",
                "\r\n",
                "CREATE VIEW Electric_vehicle_transactions_over_Time AS\r\n",
                "\r\n",
                "SELECT Transaction_Year,Electric_Vehicle_Type,COUNT(*) AS 'Number of transactions' FROM PortfolioProjects.dbo.Electric_Vehicle_Registrations\r\n",
                "GROUP BY Transaction_Year,Electric_Vehicle_Type"
            ],
            "metadata": {
                "language": "sql",
                "azdata_cell_guid": "d81b6c73-f60f-4836-a47c-d820db7af3d3"
            },
            "outputs": [
                {
                    "output_type": "display_data",
                    "data": {
                        "text/html": "Commands completed successfully."
                    },
                    "metadata": {}
                },
                {
                    "output_type": "display_data",
                    "data": {
                        "text/html": "Commands completed successfully."
                    },
                    "metadata": {}
                },
                {
                    "output_type": "display_data",
                    "data": {
                        "text/html": "Total execution time: 00:00:00.041"
                    },
                    "metadata": {}
                }
            ],
            "execution_count": 32
        },
        {
            "cell_type": "markdown",
            "source": [
                "- **View 5**"
            ],
            "metadata": {
                "language": "sql",
                "azdata_cell_guid": "4a7ac32a-4f22-4c8e-9e25-eebc0979e07e"
            },
            "attachments": {}
        },
        {
            "cell_type": "code",
            "source": [
                "DROP VIEW IF EXISTS Eligibility_status\r\n",
                "GO\r\n",
                "\r\n",
                "CREATE VIEW Eligibility_status AS\r\n",
                "\r\n",
                "SELECT [Alternative Fuel Eligibility],COUNT(DOL_Vehicle_ID) AS 'Count of vehicles' FROM SupportTable\r\n",
                "GROUP BY [Alternative Fuel Eligibility]"
            ],
            "metadata": {
                "language": "sql",
                "azdata_cell_guid": "85a36141-fa29-4e14-a6be-12bb76082c65"
            },
            "outputs": [
                {
                    "output_type": "display_data",
                    "data": {
                        "text/html": "Commands completed successfully."
                    },
                    "metadata": {}
                },
                {
                    "output_type": "display_data",
                    "data": {
                        "text/html": "Commands completed successfully."
                    },
                    "metadata": {}
                },
                {
                    "output_type": "display_data",
                    "data": {
                        "text/html": "Total execution time: 00:00:00.002"
                    },
                    "metadata": {}
                }
            ],
            "execution_count": 33
        },
        {
            "cell_type": "markdown",
            "source": [
                ""
            ],
            "metadata": {
                "language": "sql",
                "azdata_cell_guid": "4669a5d2-360f-416c-a266-c7b2a9d66fdd"
            }
        },
        {
            "cell_type": "markdown",
            "source": [
                "- **View 6:**"
            ],
            "metadata": {
                "language": "sql",
                "azdata_cell_guid": "e91b3d89-1730-4b5e-a4ae-e8ae48aefeb6"
            },
            "attachments": {}
        },
        {
            "cell_type": "code",
            "source": [
                "DROP VIEW IF EXISTS Electric_range_group_vehicle_Count\r\n",
                "GO\r\n",
                "\r\n",
                "CREATE VIEW Electric_range_group_vehicle_Count AS\r\n",
                "\r\n",
                "SELECT [Electric range group],Electric_Vehicle_Type,COUNT(DOL_Vehicle_ID) AS 'Count of vehicles' FROM SupportTable\r\n",
                "GROUP BY [Electric range group],Electric_Vehicle_Type"
            ],
            "metadata": {
                "language": "sql",
                "azdata_cell_guid": "64f385e1-3f7d-46a6-bb2b-7988186fa5a1"
            },
            "outputs": [
                {
                    "output_type": "display_data",
                    "data": {
                        "text/html": "Commands completed successfully."
                    },
                    "metadata": {}
                },
                {
                    "output_type": "display_data",
                    "data": {
                        "text/html": "Commands completed successfully."
                    },
                    "metadata": {}
                },
                {
                    "output_type": "display_data",
                    "data": {
                        "text/html": "Total execution time: 00:00:00.076"
                    },
                    "metadata": {}
                }
            ],
            "execution_count": 34
        },
        {
            "cell_type": "markdown",
            "source": [
                ""
            ],
            "metadata": {
                "language": "sql",
                "azdata_cell_guid": "67cb0dd2-0fc7-4bda-8871-8fff15d0c39b"
            }
        },
        {
            "cell_type": "markdown",
            "source": [
                "## \n",
                "\n",
                "- **View 7:**"
            ],
            "metadata": {
                "language": "sql",
                "azdata_cell_guid": "6ecc83fc-556b-4d2b-9ef5-0ec2da2cd55c"
            },
            "attachments": {}
        },
        {
            "cell_type": "code",
            "source": [
                "DROP VIEW IF EXISTS Electric_range_among_categories\r\n",
                "GO\r\n",
                "\r\n",
                "CREATE VIEW Electric_range_among_categories AS\r\n",
                "\r\n",
                "SELECT Electric_Range,Electric_Vehicle_Type FROM SupportTable\r\n",
                "WHERE Electric_Range <> 0"
            ],
            "metadata": {
                "language": "sql",
                "azdata_cell_guid": "040a5bc6-cc81-4338-a91c-6cbf99f3f8bd"
            },
            "outputs": [
                {
                    "output_type": "display_data",
                    "data": {
                        "text/html": "Commands completed successfully."
                    },
                    "metadata": {}
                },
                {
                    "output_type": "display_data",
                    "data": {
                        "text/html": "Commands completed successfully."
                    },
                    "metadata": {}
                },
                {
                    "output_type": "display_data",
                    "data": {
                        "text/html": "Total execution time: 00:00:00.039"
                    },
                    "metadata": {}
                }
            ],
            "execution_count": 35
        }
    ]
}
